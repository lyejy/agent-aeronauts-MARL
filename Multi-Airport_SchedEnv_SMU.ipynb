{
 "cells": [
  {
   "cell_type": "code",
   "execution_count": 1,
   "metadata": {},
   "outputs": [],
   "source": [
    "import gym\n",
    "from gym import spaces\n",
    "\n",
    "import random\n",
    "import scipy\n",
    "import numpy as np\n",
    "import pandas as pd\n",
    "\n",
    "import stable_baselines3\n",
    "from stable_baselines3.sac.policies import MlpPolicy\n",
    "from stable_baselines3.common.vec_env import DummyVecEnv\n",
    "from stable_baselines3 import DQN"
   ]
  },
  {
   "cell_type": "code",
   "execution_count": 2,
   "metadata": {},
   "outputs": [],
   "source": [
    "#Function for normal distribution truncation:\n",
    "\n",
    "from scipy.stats import truncnorm\n",
    "\n",
    "def get_truncated_normal(mean, sd, low, upp):\n",
    "    return truncnorm((low - mean) / sd, (upp - mean) / sd, loc=mean, scale=sd)"
   ]
  },
  {
   "cell_type": "code",
   "execution_count": 3,
   "metadata": {},
   "outputs": [],
   "source": [
    "#Function to get date sequence based on start_date and num_of_weeks:\n",
    "\n",
    "def get_date_seq(start_date_arr, num_of_weeks_arr): #start_date index 2, num_of_weeks index 3\n",
    "    date_seq_arr = np.empty(shape=(len(start_date_arr),), dtype='object')\n",
    "    for i in range(len(date_seq_arr)):\n",
    "        date_seq_arr[i] = list(range(int(start_date_arr[i]), int(start_date_arr[i]) + int(num_of_weeks_arr[i])*7, 7))\n",
    "    return date_seq_arr"
   ]
  },
  {
   "cell_type": "code",
   "execution_count": 4,
   "metadata": {},
   "outputs": [],
   "source": [
    "#Function to get observation (still for single env, need to modify for multi-agent env):\n",
    "\n",
    "def full_obs(_cap_dem_chosen_req, number_of_actions):\n",
    "    _obs_min_arr = np.full((288+number_of_actions-1, ), 0)\n",
    "    for i in range(len(_cap_dem_chosen_req)):\n",
    "        _obs_min_arr[i+int((number_of_actions-1)/2)] = min(_cap_dem_chosen_req[i])\n",
    "    return _obs_min_arr"
   ]
  },
  {
   "cell_type": "code",
   "execution_count": 5,
   "metadata": {},
   "outputs": [
    {
     "name": "stdout",
     "output_type": "stream",
     "text": [
      "[1. 0. 0.]\n",
      "[0. 1. 0.]\n",
      "[0. 0. 1.]\n"
     ]
    }
   ],
   "source": [
    "#Function to get the one-hot-encoded vectors for departure and arrival airports:\n",
    "\n",
    "def one_hot_encode_airport(airport, num_airports):\n",
    "    encoding = np.zeros(num_airports)\n",
    "    encoding[airport] = 1\n",
    "    return encoding\n",
    "\n",
    "# Example usage\n",
    "num_airports = 3\n",
    "airport1 = 0\n",
    "airport2 = 1\n",
    "airport3 = 2\n",
    "\n",
    "encoded_airport1 = one_hot_encode_airport(airport1, num_airports)\n",
    "encoded_airport2 = one_hot_encode_airport(airport2, num_airports)\n",
    "encoded_airport3 = one_hot_encode_airport(airport3, num_airports)\n",
    "\n",
    "print(encoded_airport1)\n",
    "print(encoded_airport2)\n",
    "print(encoded_airport3)"
   ]
  },
  {
   "cell_type": "code",
   "execution_count": 6,
   "metadata": {},
   "outputs": [],
   "source": [
    "#Generate full info for the arrival sides:\n",
    "\n",
    "def generate_info_arv(requests):\n",
    "    ts_arv = np.empty(shape=(len(requests),), dtype='object')\n",
    "    start_date_arv = np.empty(shape=(len(requests),), dtype='object')\n",
    "    #date_seq_arv = np.empty(shape=(len(requests),), dtype='object')\n",
    "    for i in range(len(requests)):\n",
    "        ts_arv[i] = requests[i][1] + requests[i][7]/5\n",
    "        if ts_arv[i] > 287:\n",
    "            ts_arv[i] = ts_arv[i] - 287\n",
    "            start_date_arv[i] = requests[i][2] + 1\n",
    "        else:\n",
    "            start_date_arv[i] = requests[i][2]\n",
    "    date_seq_arv = get_date_seq(start_date_arv, requests[:, 3])\n",
    "    return ts_arv, start_date_arv, date_seq_arv"
   ]
  },
  {
   "cell_type": "code",
   "execution_count": 7,
   "metadata": {},
   "outputs": [],
   "source": [
    "#Generate the multi-agent scenario:\n",
    "\n",
    "#=======================================================\n",
    "\n",
    "#Modify the distribution based on historical data later:\n",
    "def generate_scenario(number_of_requests, num_airports, cap_dict):\n",
    "    \n",
    "    #number_of_requests = 15000\n",
    "    ts_72 = get_truncated_normal(mean=72, sd=12, low=0, upp=287).rvs(int(round(number_of_requests/2)))\n",
    "    ts_72 = np.round(ts_72)\n",
    "\n",
    "    ts_216 = get_truncated_normal(mean=216, sd=12, low=0, upp=287).rvs(int(round(number_of_requests/2)))\n",
    "    ts_216 = np.round(ts_216)\n",
    "\n",
    "    ts_dep = np.concatenate((ts_72, ts_216))\n",
    "    ts_dep = ts_dep.astype(int)\n",
    "\n",
    "    #Generate start date:\n",
    "\n",
    "    start_date_dep = np.random.randint(low = 0, high=146, size=number_of_requests) #146 because period is 182 days and we consider series which span at least 5 weeks (+35 days)\n",
    "\n",
    "    #Generate number of weeks:\n",
    "\n",
    "    _max_day = np.full(number_of_requests, 182 - 1)\n",
    "\n",
    "    _remaining_days = _max_day - start_date_dep\n",
    "\n",
    "    _max_num_of_weeks = _remaining_days // 7\n",
    "\n",
    "    num_of_weeks = np.random.randint(5, _max_num_of_weeks + 1)\n",
    "\n",
    "    #Generate index for requests:\n",
    "\n",
    "    index = np.array(list(range(number_of_requests)))\n",
    "\n",
    "    #Generate origin (0 and 1 are two considered origin airports, 2 represent other airports, encoded in one-hot vector):\n",
    "\n",
    "    #num_airports = 3\n",
    "    origin_airport = np.empty(shape=(number_of_requests,), dtype='object')\n",
    "    destination_airport = np.empty(shape=(number_of_requests,), dtype='object')\n",
    "    for i in range(number_of_requests):\n",
    "        _org_airport = one_hot_encode_airport(random.randint(0,2), num_airports)\n",
    "        _org_airport_list = _org_airport.tolist()\n",
    "        origin_airport[i] = _org_airport_list\n",
    "        #Generate destination (the destination will be different with the origin):\n",
    "        _dest_airport = _org_airport.copy()\n",
    "        while np.array_equal(_dest_airport, _org_airport):\n",
    "            np.random.shuffle(_dest_airport)\n",
    "        _dest_airport_list = _dest_airport.tolist()\n",
    "        destination_airport[i] = _dest_airport_list\n",
    "\n",
    "    #Generate flying time (assume between airport 0 and 1 is 2 hour, 0 to 2 and 1 to 2 is arbitrary):\n",
    "\n",
    "    fly_time = np.empty(shape=(number_of_requests,), dtype='object')\n",
    "    for i in range (number_of_requests):\n",
    "        if origin_airport[i] == list([1.0, 0.0, 0.0]) and destination_airport[i] == list([0.0, 1.0, 0.0]):\n",
    "            fly_time[i] = 120\n",
    "        elif origin_airport[i] == list([1.0, 0.0, 0.0]) and destination_airport[i] == list([0.0, 0.0, 1.0]):\n",
    "            fly_time[i] = random.choice([60, 120, 180])\n",
    "        elif origin_airport[i] == list([0.0, 1.0, 0.0]) and destination_airport[i] == list([1.0, 0.0, 0.0]):\n",
    "            fly_time[i] = 120\n",
    "        elif origin_airport[i] == list([0.0, 1.0, 0.0]) and destination_airport[i] == list([0.0, 0.0, 1.0]):\n",
    "            fly_time[i] = random.choice([60, 120, 180])\n",
    "        elif origin_airport[i] == list([0.0, 0.0, 1.0]) and destination_airport[i] == list([1.0, 0.0, 0.0]):\n",
    "            fly_time[i] = random.choice([60, 120, 180])\n",
    "        elif origin_airport[i] == list([0.0, 0.0, 1.0]) and destination_airport[i] == list([0.0, 1.0, 0.0]):\n",
    "            fly_time[i] = random.choice([60, 120, 180])\n",
    "\n",
    "    #Get date sequence (date seq is actually a list):\n",
    "\n",
    "    date_seq_dep = get_date_seq(start_date_dep, num_of_weeks)\n",
    "\n",
    "    #Generate status cap:\n",
    "\n",
    "    status_cap_dep = np.full((number_of_requests,), 0)\n",
    "    status_cap_arv = np.full((number_of_requests,), 0)\n",
    "    \n",
    "\n",
    "    requests = np.stack((index, ts_dep, start_date_dep, num_of_weeks, date_seq_dep, origin_airport, destination_airport, fly_time, status_cap_dep), axis=1)\n",
    "\n",
    "    #Generate full info for the arv side:\n",
    "\n",
    "    ts_arv, start_date_arv, date_seq_arv = generate_info_arv(requests)\n",
    "\n",
    "    #pseudo_belong_dep = np.full((number_of_requests,), 0)\n",
    "    #pseudo_belong_arv = np.full((number_of_requests,), 0)\n",
    "    \n",
    "    requests_full = np.stack((index, ts_dep, start_date_dep, num_of_weeks, date_seq_dep, origin_airport, destination_airport, fly_time, status_cap_dep, ts_arv, start_date_arv, date_seq_arv, status_cap_arv), axis=1)\n",
    "\n",
    "    airport_req_dict, _belong_airport_dict = get_airport_req_dict(requests_full, num_airports)\n",
    "\n",
    "    pot_dem_dict = get_initial_pot_dem_per_airport(airport_req_dict, num_airports)\n",
    "\n",
    "    cap_dem_dict = get_cap_dem_dict(num_airports, cap_dict, pot_dem_dict)\n",
    "\n",
    "    return requests_full, airport_req_dict, _belong_airport_dict, pot_dem_dict, cap_dem_dict\n",
    "\n",
    "    #Generate capacity:\n",
    "\n",
    "    #cap_arr = np.full((288, 182), 20)\n",
    "\n",
    "    #Create final_sched:\n",
    "\n",
    "    #final_sched_arr = req_arr.copy()\n",
    "\n",
    "    #Get potential demand: #Check again the function here (turn to array)\n",
    "    #pot_dem_arr = get_initial_pot_dem()\n",
    "\n",
    "    #Get remaining cap:\n",
    "    #cap_dem_arr = cap_arr - pot_dem_arr"
   ]
  },
  {
   "cell_type": "code",
   "execution_count": 8,
   "metadata": {},
   "outputs": [],
   "source": [
    "def get_violate_id_set(airport_req_dict, num_airports):\n",
    "    violate_set = [] #(1: id, 2: airport, 3: dep, 4: arv)\n",
    "    for i in range(num_airports):\n",
    "        mask = ((airport_req_dict['req_{}'.format(i)][:, 8] + airport_req_dict['req_{}'.format(i)][:, 12]) >= 1)\n",
    "        _id_violate_per_airport = airport_req_dict['req_{}'.format(i)][mask, :][:,0]\n",
    "        violate_set.append(_id_violate_per_airport)\n",
    "    violate_set = np.concatenate(violate_set, axis=0)\n",
    "    violate_set = np.unique(violate_set)\n",
    "    return violate_set"
   ]
  },
  {
   "cell_type": "code",
   "execution_count": 9,
   "metadata": {},
   "outputs": [],
   "source": [
    "def get_violate_id_set_req_full(requests_full):\n",
    "    mask = ((requests_full[:, 8] + requests_full[:, 12]) >= 1)\n",
    "    violate_set_req_full = requests_full[mask, :][:,0]\n",
    "    return violate_set_req_full"
   ]
  },
  {
   "cell_type": "code",
   "execution_count": 10,
   "metadata": {},
   "outputs": [],
   "source": [
    "def get_req(violate_set, requests_full):\n",
    "    _violate_index = random.choice(violate_set)\n",
    "    chosen_req = requests_full[requests_full[:,0] == _violate_index]\n",
    "    return chosen_req"
   ]
  },
  {
   "cell_type": "code",
   "execution_count": 11,
   "metadata": {},
   "outputs": [],
   "source": [
    "def flatten_cap_dem_dict(cap_dem_dict, num_airports):\n",
    "    cap_dem_dict_flat = {}\n",
    "    for i in range(num_airports):\n",
    "        cap_dem_dict_flat['req_{}'.format(i)] = cap_dem_dict['req_{}'.format(i)].flatten()\n",
    "    return cap_dem_dict_flat"
   ]
  },
  {
   "cell_type": "code",
   "execution_count": 12,
   "metadata": {},
   "outputs": [],
   "source": [
    "#Get separated req per airport and store in a dict:\n",
    "\n",
    "def get_airport_req_dict(requests_full, num_airports):\n",
    "    airport_req_dict = {}\n",
    "    _belong_airport_dict = {}\n",
    "    for i in range(num_airports):\n",
    "        airport_req_dict['req_{}'.format(i)] = np.empty((0, 15)) #This one depends on the number of elements of a final request\n",
    "        _belong_airport_dict['req_{}'.format(i)] = np.full(num_airports, 0.0, dtype=float)\n",
    "        _belong_airport_dict['req_{}'.format(i)][i] = float(1.0)\n",
    "        _belong_airport_dict['req_{}'.format(i)] = _belong_airport_dict['req_{}'.format(i)].tolist()\n",
    "        \n",
    "    for i in range(len(requests_full)):\n",
    "        _found_dep = 0\n",
    "        _found_arv = 0\n",
    "        for k in range(num_airports):\n",
    "            #_found_dep = 0\n",
    "            #_found_arv = 0\n",
    "            if requests_full[i][5] == _belong_airport_dict['req_{}'.format(k)]:\n",
    "                _dep_req = np.append(requests_full[i], 1)\n",
    "                _dep_req = np.append(_dep_req, 0)\n",
    "                airport_req_dict['req_{}'.format(k)] = np.vstack((airport_req_dict['req_{}'.format(k)], _dep_req))\n",
    "                _found_dep = 1\n",
    "                #airport_req_dict['req_{}'.format(k)] = np.append(airport_req_dict['req_{}'.format(k)], 1)\n",
    "                #airport_req_dict['req_{}'.format(k)] = np.append(airport_req_dict['req_{}'.format(k)], 0)\n",
    "                #break\n",
    "            if requests_full[i][6] == _belong_airport_dict['req_{}'.format(k)]:\n",
    "                _arv_req = np.append(requests_full[i], 0)\n",
    "                _arv_req = np.append(_arv_req, 1)\n",
    "                airport_req_dict['req_{}'.format(k)] = np.vstack((airport_req_dict['req_{}'.format(k)], _arv_req))\n",
    "                _found_arv = 1\n",
    "                #airport_req_dict['req_{}'.format(k)] = np.append(airport_req_dict['req_{}'.format(k)], 0)\n",
    "                #airport_req_dict['req_{}'.format(k)] = np.append(airport_req_dict['req_{}'.format(k)], 1)\n",
    "                #break\n",
    "            if _found_dep + _found_arv == 2:\n",
    "                break\n",
    "        if _found_dep + _found_arv != 2:\n",
    "            print(\"Cannot found both dep and arv at req {}\".format(i))\n",
    "            \n",
    "    return airport_req_dict, _belong_airport_dict"
   ]
  },
  {
   "cell_type": "code",
   "execution_count": 13,
   "metadata": {},
   "outputs": [],
   "source": [
    "def generate_deterministic_capacity_dict(num_airports, cap_per_airport_arr): #This function is for a period of 182 days and 288 slots/ day\n",
    "    cap_dict = {}\n",
    "    for i in range(num_airports):\n",
    "        cap_dict['req_{}'.format(i)] = np.full((288, 182), cap_per_airport_arr[i])\n",
    "    return cap_dict"
   ]
  },
  {
   "cell_type": "code",
   "execution_count": 14,
   "metadata": {},
   "outputs": [],
   "source": [
    "def get_initial_pot_dem_per_airport(airport_req_dict, num_airports): #Replace req_df to req_df_update to update pot_dem_df #To be replaced with final_sched\n",
    "    pot_dem_dict = {}\n",
    "    #TODO: increase speed\n",
    "    #13 dep 14 arv, 1 dep ts, 9 arv ts\n",
    "    for i in range(num_airports):\n",
    "        pot_dem_dict['req_{}'.format(i)] = np.full((288, 182), 0)\n",
    "        for k in range(len(airport_req_dict['req_{}'.format(i)])):\n",
    "            _time_slot = int(airport_req_dict['req_{}'.format(i)][k][1]) * int(airport_req_dict['req_{}'.format(i)][k][13]) + int(airport_req_dict['req_{}'.format(i)][k][9]) * int(airport_req_dict['req_{}'.format(i)][k][14])\n",
    "            _date_seq = airport_req_dict['req_{}'.format(i)][k][4] * int(airport_req_dict['req_{}'.format(i)][k][13]) + airport_req_dict['req_{}'.format(i)][k][11] * int(airport_req_dict['req_{}'.format(i)][k][14])\n",
    "            pot_dem_dict['req_{}'.format(i)][_time_slot, _date_seq] += 1\n",
    "    return pot_dem_dict"
   ]
  },
  {
   "cell_type": "code",
   "execution_count": 15,
   "metadata": {},
   "outputs": [],
   "source": [
    "def get_cap_dem_dict(num_airports, cap_dict, pot_dem_dict):\n",
    "    cap_dem_dict = {}\n",
    "    for i in range(num_airports):\n",
    "        cap_dem_dict['req_{}'.format(i)] = cap_dict['req_{}'.format(i)] - pot_dem_dict['req_{}'.format(i)]\n",
    "    return cap_dem_dict"
   ]
  },
  {
   "cell_type": "code",
   "execution_count": 16,
   "metadata": {},
   "outputs": [],
   "source": [
    "def update_status_capacity(airport_req_dict, num_airports, cap_dem_dict, requests_full):\n",
    "    #Them cot cap_status o init:\n",
    "    for i in range(num_airports):\n",
    "        for k in range(len(airport_req_dict['req_{}'.format(i)])):\n",
    "            _time_slot = int(airport_req_dict['req_{}'.format(i)][k][1]) * int(airport_req_dict['req_{}'.format(i)][k][13]) + int(airport_req_dict['req_{}'.format(i)][k][9]) * int(airport_req_dict['req_{}'.format(i)][k][14])\n",
    "            _date_seq = airport_req_dict['req_{}'.format(i)][k][4] * int(airport_req_dict['req_{}'.format(i)][k][13]) + airport_req_dict['req_{}'.format(i)][k][11] * int(airport_req_dict['req_{}'.format(i)][k][14])\n",
    "            if all(x >= 0 for x in cap_dem_dict['req_{}'.format(i)][_time_slot, _date_seq]):\n",
    "                #print(self.cap_dem_arr[_time_slot, _date_seq])\n",
    "                airport_req_dict['req_{}'.format(i)][k][8] = 0\n",
    "                airport_req_dict['req_{}'.format(i)][k][12] = 0\n",
    "            else:\n",
    "                if airport_req_dict['req_{}'.format(i)][k][13] == 1:\n",
    "                    airport_req_dict['req_{}'.format(i)][k][8] = 1\n",
    "                    _indices = np.where(requests_full[:, 0] == airport_req_dict['req_{}'.format(i)][k][0])\n",
    "                    requests_full[_indices, 8] = 1\n",
    "                else:\n",
    "                    airport_req_dict['req_{}'.format(i)][k][12] = 1\n",
    "                    _indices = np.where(requests_full[:, 0] == airport_req_dict['req_{}'.format(i)][k][0])\n",
    "                    requests_full[_indices, 12] = 1"
   ]
  },
  {
   "cell_type": "code",
   "execution_count": null,
   "metadata": {},
   "outputs": [],
   "source": [
    "# Function to update the demand table when new requests come in\n",
    "# add the step to deduct demand in a timeslot after take_action\n",
    "# action 0: new request, action 1: shift request\n",
    "def update_dem(pot_dem_dict, request, action):\n",
    "    dep_airport_idx = np.argmax(request[5])  # Find the departure airport index\n",
    "    arv_airport_idx = np.argmax(request[6])  # Find the arrival airport index\n",
    "    dep_time_slot = int(request[1])\n",
    "    arv_time_slot = int(request[9])\n",
    "    num_weeks = int(request[3])\n",
    "\n",
    "    # Comment out code which involves take_action\n",
    "    # if action == 0:\n",
    "    #     # Update the demand table for departure airport\n",
    "    #     dep_demand_table = pot_dem_dict[f'req_{dep_airport_idx}']\n",
    "    #     for week in range(num_weeks):\n",
    "    #         dep_demand_table[dep_time_slot % 288, week] += 1\n",
    "\n",
    "    #     # Update the demand table for arrival airport\n",
    "    #     arv_demand_table = pot_dem_dict[f'req_{arv_airport_idx}']\n",
    "    #     for week in range(num_weeks):\n",
    "    #         arv_demand_table[arv_time_slot % 288, week] += 1\n",
    "\n",
    "    # # this section need to link with take action\n",
    "    # elif action == 1:\n",
    "    #     dep_demand_table = pot_dem_dict[f'req_{dep_airport_idx}']\n",
    "    #     arv_demand_table = pot_dem_dict[f'req_{arv_airport_idx}']\n",
    "    #     for week in range(num_weeks):\n",
    "    #         dep_demand_table[dep_time_slot % 288, week] -= 1\n",
    "    #         arv_demand_table[arv_time_slot % 288, week] -= 1\n",
    "\n",
    "    #     # Update the new time slots - the new_time_slot \n",
    "    #     new_dep_time_slot = dep_time_slot + n  # Update the new time slot by adding n, where n is the number of slots shifted by take action\n",
    "    #     new_arv_time_slot = arv_time_slot + n  # Update the new time slot by adding n, where n is the number of slots shifted by take action\n",
    "    #     for week in range(num_weeks):\n",
    "    #         dep_demand_table[new_dep_time_slot % 288, week] += 1\n",
    "    #         arv_demand_table[new_arv_time_slot % 288, week] += 1\n",
    "\n",
    "    # Update the demand table for departure airport\n",
    "    dep_demand_table = pot_dem_dict[f'req_{dep_airport_idx}']\n",
    "    for week in range(num_weeks):\n",
    "        dep_demand_table[dep_time_slot % 288, week] += 1\n",
    "\n",
    "    # Update the demand table for arrival airport\n",
    "    arv_demand_table = pot_dem_dict[f'req_{arv_airport_idx}']\n",
    "    for week in range(num_weeks):\n",
    "        arv_demand_table[arv_time_slot % 288, week] += 1\n",
    "        \n",
    "    return pot_dem_dict"
   ]
  },
  {
   "cell_type": "code",
   "execution_count": null,
   "metadata": {},
   "outputs": [],
   "source": [
    "# Function to update the capacity minus demand table after the demand table is updated when new requests come in\n",
    "def update_cap_dem(cap_dem_dict, cap_dict, pot_dem_dict):\n",
    "    for airport_name in cap_dem_dict:\n",
    "        cap_dem_dict[airport_name] = cap_dict[airport_name] - pot_dem_dict[airport_name]\n",
    "    \n",
    "    return cap_dem_dict"
   ]
  },
  {
   "cell_type": "code",
   "execution_count": 17,
   "metadata": {},
   "outputs": [],
   "source": [
    "class TwoAirportSchedEnv(gym.Env):\n",
    "    def __init__(self, number_of_actions, number_of_requests, num_airports, cap_per_airport_arr):\n",
    "        \n",
    "        super(TwoAirportSchedEnv, self).__init__()\n",
    "        self.number_of_actions = int(number_of_actions)\n",
    "        self.do_nothing_action = int((self.number_of_actions - 1)/2)\n",
    "        self.number_of_requests = number_of_requests\n",
    "        self.num_airports = num_airports\n",
    "        #self.number_of_days = number_of_days\n",
    "        self.cap_per_airport_arr = cap_per_airport_arr\n",
    "        self.cap_dict = generate_deterministic_capacity_dict(self.num_airports, self.cap_per_airport_arr)\n",
    "        #self.generate_scenario()\n",
    "                 \n",
    "        #cap_dem_dict_flat = flatten_cap_dem_dict(cap_dem_dict, num_airports)\n",
    "        #_generate = True\n",
    "        _exceed_cap = 0         \n",
    "        while _exceed_cap == 0:\n",
    "            self.requests_full, self.airport_req_dict, self._belong_airport_dict, self.pot_dem_dict, self.cap_dem_dict = generate_scenario(number_of_requests = self.number_of_requests, num_airports = self.num_airports, cap_dict = self.cap_dict)\n",
    "            self.cap_dem_dict_flat = flatten_cap_dem_dict(self.cap_dem_dict, self.num_airports)\n",
    "            for i in range(num_airports):\n",
    "                _exceed_cap = _exceed_cap + (min(self.cap_dem_dict_flat['req_{}'.format(i)]))\n",
    "        update_status_capacity(self.airport_req_dict, self.num_airports, self.cap_dem_dict, self.requests_full)\n",
    "        self.num_step = 0\n",
    "    \n",
    "    \n",
    "    #get_violate_id_set(airport_req_dict, num_airports)\n",
    "    #get_req(violate_set)\n",
    "    \n",
    "        \n",
    "    def check_outbound(self, action):\n",
    "        _time_slot = self.chosen_req[:,1]\n",
    "        if ((_time_slot + (action - self.do_nothing_action)) < 0) or ((_time_slot + (action - self.do_nothing_action)) > 287):\n",
    "            outbound = True\n",
    "        else:\n",
    "            outbound = False\n",
    "        return outbound\n",
    "    \n",
    "    def dep_or_arv(self):\n",
    "        pass\n",
    "    \n",
    "    def take_action(self, action):\n",
    "        if not self.check_outbound(action):\n",
    "            _index = self.chosen_req[:,0]\n",
    "            self.requests_full[self.requests_full[:,0] == _index][:,1] += action - self.do_nothing_action\n",
    "            self.requests_full[self.requests_full[:,0] == _index][:,9] += action - self.do_nothing_action\n",
    "            _dep_airport = self.chosen_req[:,5][0].index(1.0)\n",
    "            _arv_airport = self.chosen_req[:,6][0].index(1.0)\n",
    "            self.airport_req_dict['req_{}'.format(_dep_airport)][self.airport_req_dict['req_{}'.format(_dep_airport)][:,0] == _index][:,1] += action - self.do_nothing_action\n",
    "            self.airport_req_dict['req_{}'.format(_dep_airport)][self.airport_req_dict['req_{}'.format(_dep_airport)][:,0] == _index][:,9] += action - self.do_nothing_action\n",
    "            self.airport_req_dict['req_{}'.format(_arv_airport)][self.airport_req_dict['req_{}'.format(_arv_airport)][:,0] == _index][:,1] += action - self.do_nothing_action\n",
    "            self.airport_req_dict['req_{}'.format(_arv_airport)][self.airport_req_dict['req_{}'.format(_arv_airport)][:,0] == _index][:,9] += action - self.do_nothing_action\n",
    "        elif self.check_outbound(action):\n",
    "            _time_slot = self.chosen_req[:,1]\n",
    "            #if (_time_slot + (action - self.do_nothing_action)) < 0:\n",
    "            pass    \n",
    "        else:\n",
    "            print('Problem with check outbound!')\n",
    "            #update airport_req_dict\n",
    "            #update dem_dict all\n",
    "            #update cap_dem all\n",
    "            #update status all\n",
    "            \n",
    "    def action_scenario(self, action_dep, action_arv):\n",
    "        #if action_dep == action_arv:\n",
    "        pass    \n",
    "            \n",
    "        "
   ]
  },
  {
   "cell_type": "code",
   "execution_count": null,
   "metadata": {},
   "outputs": [],
   "source": [
    "#Not done\n",
    "def next_observation(self):\n",
    "    _chosen_req_info = self.chosen_req\n",
    "    \n",
    "    _dep_time_slot = self.chosen_req[:,1]\n",
    "    _num_of_weeks = self.chosen_req[:,3]\n",
    "    _dep_date_seq = self.chosen_req[:,4]\n",
    "    _dep_belong = self.chosen_req[:,5][0]\n",
    "    \n",
    "    _arv_time_slot = self.chosen_req[:,9]\n",
    "    _arv_date_seq = self.chosen_req[:,11]\n",
    "    _arv_belong = self.chosen_req[:,6][0]\n",
    "\n",
    "    _cap_dem_dep = self.cap_dem_arr[:, _date_seq].copy()\n",
    "    _cap_dem_arv = self.cap_dem\n",
    "    #print(self.number_of_actions, type(self.number_of_actions))\n",
    "    _obs_min_arr = full_obs(_cap_dem_chosen_req, self.number_of_actions)\n",
    "    _obs_time_slot_related = list(range(_time_slot, _time_slot + self.number_of_actions, 1))\n",
    "    _cap_dem_obs = _obs_min_arr[_obs_time_slot_related]    "
   ]
  },
  {
   "cell_type": "code",
   "execution_count": null,
   "metadata": {},
   "outputs": [],
   "source": [
    "#Setting 1 (each involving agent (arr/dep) takes action independently -> lead to ):\n",
    "def take_action_jointly(self):\n",
    "    pass        "
   ]
  },
  {
   "cell_type": "code",
   "execution_count": 19,
   "metadata": {},
   "outputs": [],
   "source": [
    "def check_outbound(chosen_req, action): #Havent modified\n",
    "    _time_slot = self.chosen_req_arr[1]\n",
    "    if ((_time_slot + (action - self.do_nothing_action)) < 0) or ((_time_slot + (action - self.do_nothing_action)) > 287):\n",
    "        outbound = True\n",
    "    else:\n",
    "        outbound = False\n",
    "    #print('Time slot:\\n', _id)\n",
    "    #print('Action:\\n', action)\n",
    "    #print('Outbound:\\n', outbound)\n",
    "    return outbound"
   ]
  },
  {
   "cell_type": "code",
   "execution_count": 18,
   "metadata": {},
   "outputs": [],
   "source": [
    "TwoAirportSchedEnv = TwoAirportSchedEnv(number_of_actions=5, number_of_requests=15000, num_airports=3, cap_per_airport_arr= [9,9,9])"
   ]
  },
  {
   "cell_type": "code",
   "execution_count": 19,
   "metadata": {},
   "outputs": [],
   "source": [
    "requests_full = TwoAirportSchedEnv.requests_full\n",
    "airport_req_dict = TwoAirportSchedEnv.airport_req_dict\n",
    "_belong_airport_dict = TwoAirportSchedEnv._belong_airport_dict\n",
    "pot_dem_dict = TwoAirportSchedEnv.pot_dem_dict"
   ]
  },
  {
   "cell_type": "code",
   "execution_count": 20,
   "metadata": {},
   "outputs": [],
   "source": [
    "cap_dict = TwoAirportSchedEnv.cap_dict"
   ]
  },
  {
   "cell_type": "code",
   "execution_count": 21,
   "metadata": {},
   "outputs": [
    {
     "data": {
      "text/plain": [
       "{'req_0': array([[9, 9, 9, ..., 9, 9, 9],\n",
       "        [9, 9, 9, ..., 9, 9, 9],\n",
       "        [9, 9, 9, ..., 9, 9, 9],\n",
       "        ...,\n",
       "        [9, 9, 9, ..., 9, 9, 9],\n",
       "        [9, 9, 9, ..., 9, 9, 9],\n",
       "        [9, 9, 9, ..., 9, 9, 9]]),\n",
       " 'req_1': array([[9, 9, 9, ..., 9, 9, 9],\n",
       "        [9, 9, 9, ..., 9, 9, 9],\n",
       "        [9, 9, 9, ..., 9, 9, 9],\n",
       "        ...,\n",
       "        [9, 9, 9, ..., 9, 9, 9],\n",
       "        [9, 9, 9, ..., 9, 9, 9],\n",
       "        [9, 9, 9, ..., 9, 9, 9]]),\n",
       " 'req_2': array([[9, 9, 9, ..., 9, 9, 9],\n",
       "        [9, 9, 9, ..., 9, 9, 9],\n",
       "        [9, 9, 9, ..., 9, 9, 9],\n",
       "        ...,\n",
       "        [9, 9, 9, ..., 9, 9, 9],\n",
       "        [9, 9, 9, ..., 9, 9, 9],\n",
       "        [9, 9, 9, ..., 9, 9, 9]])}"
      ]
     },
     "execution_count": 21,
     "metadata": {},
     "output_type": "execute_result"
    }
   ],
   "source": [
    "cap_dem_dict = get_cap_dem_dict(3, cap_dict, pot_dem_dict)\n",
    "cap_dem_dict"
   ]
  },
  {
   "cell_type": "code",
   "execution_count": 55,
   "metadata": {},
   "outputs": [
    {
     "data": {
      "text/plain": [
       "{'req_0': [1.0, 0.0, 0.0], 'req_1': [0.0, 1.0, 0.0], 'req_2': [0.0, 0.0, 1.0]}"
      ]
     },
     "execution_count": 55,
     "metadata": {},
     "output_type": "execute_result"
    }
   ],
   "source": [
    "_belong_airport_dict"
   ]
  },
  {
   "cell_type": "code",
   "execution_count": 70,
   "metadata": {},
   "outputs": [
    {
     "data": {
      "text/plain": [
       "[0.0, 1.0, 0.0]"
      ]
     },
     "execution_count": 70,
     "metadata": {},
     "output_type": "execute_result"
    }
   ],
   "source": [
    "_dep_belong = chosen_req[:,5][0]\n",
    "_dep_belong"
   ]
  },
  {
   "cell_type": "code",
   "execution_count": 67,
   "metadata": {},
   "outputs": [],
   "source": [
    "def getKey(dct,value):\n",
    "     return [key for key in dct if (dct[key] == value)]"
   ]
  },
  {
   "cell_type": "code",
   "execution_count": 73,
   "metadata": {},
   "outputs": [
    {
     "data": {
      "text/plain": [
       "['req_1']"
      ]
     },
     "execution_count": 73,
     "metadata": {},
     "output_type": "execute_result"
    }
   ],
   "source": [
    "dep_key = getKey(_belong_airport_dict, _dep_belong)\n",
    "dep_key"
   ]
  },
  {
   "cell_type": "code",
   "execution_count": 89,
   "metadata": {},
   "outputs": [
    {
     "data": {
      "text/plain": [
       "[217, 218, 219, 220]"
      ]
     },
     "execution_count": 89,
     "metadata": {},
     "output_type": "execute_result"
    }
   ],
   "source": [
    "_obs_time_slot_related = list(range(_dep_time_slot[0] - 2, _dep_time_slot[0] + 2, 1)) #5 is number of actions\n",
    "_obs_time_slot_related"
   ]
  },
  {
   "cell_type": "code",
   "execution_count": 82,
   "metadata": {},
   "outputs": [
    {
     "data": {
      "text/plain": [
       "array([list([69, 76, 83, 90, 97, 104, 111, 118, 125, 132, 139, 146, 153, 160])],\n",
       "      dtype=object)"
      ]
     },
     "execution_count": 82,
     "metadata": {},
     "output_type": "execute_result"
    }
   ],
   "source": [
    "_dep_date_seq = chosen_req[:,4]\n",
    "_dep_date_seq"
   ]
  },
  {
   "cell_type": "code",
   "execution_count": null,
   "metadata": {},
   "outputs": [],
   "source": [
    "#Havent modified\n",
    "def full_obs(_cap_dem_chosen_req, number_of_actions):\n",
    "    _obs_min_arr = np.full((288+number_of_actions-1, ), 0)\n",
    "    for i in range(len(_cap_dem_chosen_req)):\n",
    "        _obs_min_arr[i+int((number_of_actions-1)/2)] = min(_cap_dem_chosen_req[i])\n",
    "    return _obs_min_arr"
   ]
  },
  {
   "cell_type": "code",
   "execution_count": 22,
   "metadata": {},
   "outputs": [],
   "source": [
    "violate_id = get_violate_id_set(airport_req_dict, 3)"
   ]
  },
  {
   "cell_type": "code",
   "execution_count": 23,
   "metadata": {},
   "outputs": [],
   "source": [
    "violate_req = get_violate_id_set_req_full(requests_full)"
   ]
  },
  {
   "cell_type": "code",
   "execution_count": 24,
   "metadata": {},
   "outputs": [
    {
     "data": {
      "text/plain": [
       "8891"
      ]
     },
     "execution_count": 24,
     "metadata": {},
     "output_type": "execute_result"
    }
   ],
   "source": [
    "len(violate_id)"
   ]
  },
  {
   "cell_type": "code",
   "execution_count": 25,
   "metadata": {},
   "outputs": [
    {
     "data": {
      "text/plain": [
       "8891"
      ]
     },
     "execution_count": 25,
     "metadata": {},
     "output_type": "execute_result"
    }
   ],
   "source": [
    "len(violate_req)"
   ]
  },
  {
   "cell_type": "code",
   "execution_count": 50,
   "metadata": {},
   "outputs": [
    {
     "data": {
      "text/plain": [
       "array([0, 1, 2, ..., 14991, 14994, 14997], dtype=object)"
      ]
     },
     "execution_count": 50,
     "metadata": {},
     "output_type": "execute_result"
    }
   ],
   "source": [
    "violate_id"
   ]
  },
  {
   "cell_type": "code",
   "execution_count": 51,
   "metadata": {},
   "outputs": [
    {
     "data": {
      "text/plain": [
       "array([0, 1, 2, ..., 14991, 14994, 14997], dtype=object)"
      ]
     },
     "execution_count": 51,
     "metadata": {},
     "output_type": "execute_result"
    }
   ],
   "source": [
    "violate_req"
   ]
  },
  {
   "cell_type": "code",
   "execution_count": 27,
   "metadata": {},
   "outputs": [
    {
     "data": {
      "text/plain": [
       "15000"
      ]
     },
     "execution_count": 27,
     "metadata": {},
     "output_type": "execute_result"
    }
   ],
   "source": [
    "#Check if airport req dict generated correctly:\n",
    "a = TwoAirportSchedEnv.airport_req_dict['req_0'][:,0]\n",
    "b = TwoAirportSchedEnv.airport_req_dict['req_1'][:,0]\n",
    "c = TwoAirportSchedEnv.airport_req_dict['req_2'][:,0]\n",
    "ab = np.intersect1d(a,b)\n",
    "bc = np.intersect1d(b,c)\n",
    "ca = np.intersect1d(c,a)\n",
    "len(a) + len(b) + len(c) - len(ab) - len(bc) - len(ca)"
   ]
  },
  {
   "cell_type": "code",
   "execution_count": 31,
   "metadata": {},
   "outputs": [],
   "source": [
    "def get_req(violate_set, requests_full): \n",
    "    _violate_index = random.choice(violate_set)\n",
    "    chosen_req = requests_full[requests_full[:,0] == _violate_index]\n",
    "    return chosen_req"
   ]
  },
  {
   "cell_type": "code",
   "execution_count": 38,
   "metadata": {},
   "outputs": [],
   "source": [
    "def check_random_n_violate_req(n, violate_set, requests_full): #violate_set <- violate_id or violate_req\n",
    "    for i in range(n):\n",
    "        _chosen_req = get_req(violate_set, requests_full)\n",
    "        if _chosen_req[:,8] + _chosen_req[:,12] == 0:\n",
    "            print('There is error at req {}'.format(_chosen_req))\n",
    "    print('Check {} violated reqs done!'.format(n))"
   ]
  },
  {
   "cell_type": "code",
   "execution_count": 39,
   "metadata": {},
   "outputs": [],
   "source": [
    "violate_set = get_violate_id_set(TwoAirportSchedEnv.airport_req_dict, TwoAirportSchedEnv.num_airports)"
   ]
  },
  {
   "cell_type": "code",
   "execution_count": 40,
   "metadata": {},
   "outputs": [
    {
     "name": "stdout",
     "output_type": "stream",
     "text": [
      "Check 100 violated reqs done!\n"
     ]
    }
   ],
   "source": [
    "check_random_n_violate_req(100, violate_set, requests_full)"
   ]
  },
  {
   "cell_type": "code",
   "execution_count": null,
   "metadata": {},
   "outputs": [],
   "source": [
    "def check_violate_set(violate_set, airport_req_dict, ): #TODO\n",
    "    pass"
   ]
  },
  {
   "cell_type": "code",
   "execution_count": null,
   "metadata": {},
   "outputs": [],
   "source": [
    "check_request(TwoAirportSchedEnv.requests_full, TwoAirportSchedEnv.airport_req_dict, TwoAirportSchedEnv._belong_airport_dict, TwoAirportSchedEnv.num_airports, TwoAirportSchedEnv.pot_dem_dict)"
   ]
  },
  {
   "cell_type": "code",
   "execution_count": null,
   "metadata": {},
   "outputs": [],
   "source": [
    "def check_union_req_per_airport(airport_req_dict, num_airports, num_requests):\n",
    "    pass\n",
    "#Written above, hasnt writtern in terms of function "
   ]
  },
  {
   "cell_type": "code",
   "execution_count": 42,
   "metadata": {},
   "outputs": [],
   "source": [
    "def check_pot_dem_dict(airport_req_dict, num_airports, pot_dem_dict):\n",
    "    for i in range(num_airports):\n",
    "        if sum(airport_req_dict['req_{}'.format(i)][:,3]) == sum(sum(pot_dem_dict['req_{}'.format(i)])):\n",
    "            print('req {} checked. No issue!'.format(i))\n",
    "        else:\n",
    "            print('req {} has problem!'. format(i))"
   ]
  },
  {
   "cell_type": "code",
   "execution_count": 43,
   "metadata": {},
   "outputs": [],
   "source": [
    "#Functions to check the generated scenarios:\n",
    "\n",
    "def check_exceed_period(requests_full):\n",
    "    for i in range(len(requests_full)):\n",
    "        if max(requests_full[i][4]) >= 182:\n",
    "            print('Exceed period departure at request {}'.format(i))\n",
    "        if max(requests_full[i][11]) >= 182:\n",
    "            print('Exceed period arrival at request {}'.format(i))\n",
    "    print('Check exceed period done!')\n",
    "\n",
    "    \n",
    "def check_if_same_org_dest(requests):\n",
    "    for i in range(len(requests)):\n",
    "        if requests[i][5] == requests[i][6]:\n",
    "            print('Problem at {}'.format(i))\n",
    "#         else:\n",
    "#             print(i, 'Checked')\n",
    "    print('Check if any same origin and destination done!')\n",
    "    \n",
    "    \n",
    "def check_correspond_time_slot(requests):\n",
    "    for i in range(len(requests)):\n",
    "        if requests[i][1] + requests[i][7]/5 > 287:\n",
    "            #print(i, '1')\n",
    "            _ts_arv = (requests[i][1] + requests[i][7]/5) - 287\n",
    "            if requests[i][9] != _ts_arv:\n",
    "                print(\"Not corresponding time slot at request {}\".format(i))\n",
    "        else:\n",
    "            #print(i, '2')\n",
    "            if requests[i][9] != requests[i][1] + requests[i][7]/5:\n",
    "                print(\"Not corresponding time slot at request {}\".format(i))\n",
    "    print('Check corresponding time slot done!')\n",
    "    \n",
    "    \n",
    "def check_correspond_date(requests):\n",
    "    for i in range(len(requests)):\n",
    "        if requests[i][1] + requests[i][7]/5 > 287:\n",
    "            #print(i, '1')\n",
    "            _start_date_arv = requests[i][2] + 1\n",
    "            if requests[i][10] != _start_date_arv:\n",
    "                print(\"Not corresponding start date at request {}\".format(i))\n",
    "        else:\n",
    "            #print(i, '2')\n",
    "            if requests[i][10] != requests[i][2]:\n",
    "                print(\"Not corresponding start date at request {}\".format(i))\n",
    "    print(\"Check start date done!\")\n",
    "    \n",
    "    \n",
    "def check_date_seq(requests):\n",
    "    for i in range(len(requests)):\n",
    "        if requests[i][1] + requests[i][7]/5 > 287:\n",
    "            #print(i, '1')\n",
    "            _date_seq_arv = [x+1 for x in requests[i][4]]\n",
    "            if requests[i][11] != _date_seq_arv:\n",
    "                print('Not corresponding date seq at request {}'.format(i))\n",
    "        else:\n",
    "            #print(i, '2')\n",
    "            if requests[i][11] != requests[i][4]:\n",
    "                print('Not corresponding date seq at request {}'.format(i)) \n",
    "    print('Check date seq done!')\n",
    "    \n",
    "    \n",
    "def check_duplication_each_req_airport(airport_req_dict, num_airports):\n",
    "    for i in range(num_airports):\n",
    "        if len(airport_req_dict['req_{}'.format(i)]) != len(list(set(airport_req_dict['req_{}'.format(i)][:,0]))):\n",
    "            print('Duplication at airport {}'.format(i))\n",
    "    print('Check duplication per airport req done!')\n",
    "    \n",
    "    \n",
    "def check_correct_dep_arv_binary_values(airport_req_dict, _belong_airport_dict, num_airports):\n",
    "    for i in range(num_airports):\n",
    "        for k in range(len(airport_req_dict['req_{}'.format(i)])):\n",
    "            if airport_req_dict['req_{}'.format(i)][k][5] == _belong_airport_dict['req_{}'.format(i)] and airport_req_dict['req_{}'.format(i)][k][13] != 1:\n",
    "                print('Not correct dep at airport {} and req {}!'.format(i, k))\n",
    "            if airport_req_dict['req_{}'.format(i)][k][6] == _belong_airport_dict['req_{}'.format(i)] and airport_req_dict['req_{}'.format(i)][k][14] != 1:\n",
    "                print('Not correct arv at airport {} and req {}!'.format(i, k))\n",
    "            if airport_req_dict['req_{}'.format(i)][k][5] != _belong_airport_dict['req_{}'.format(i)] and airport_req_dict['req_{}'.format(i)][k][6] != _belong_airport_dict['req_{}'.format(i)]:\n",
    "                print('Req {} not belong to airport {}'.format(k, i))\n",
    "                print('====')\n",
    "                print(airport_req_dict['req_{}'.format(i)][k][5], airport_req_dict['req_{}'.format(i)][k][6], _belong_airport_dict['req_{}'.format(i)])\n",
    "            if airport_req_dict['req_{}'.format(i)][k][13] + airport_req_dict['req_{}'.format(i)][k][14] != 1:\n",
    "                print('Not unique in dep and arv status at airport {} and req {}!'.format(i, k))\n",
    "    print('Check dep and arv status done!')\n",
    "    \n",
    "\n",
    "def check_pot_dem_dict(airport_req_dict, num_airports, pot_dem_dict):\n",
    "    for i in range(num_airports):\n",
    "        if sum(airport_req_dict['req_{}'.format(i)][:,3]) == sum(sum(pot_dem_dict['req_{}'.format(i)])):\n",
    "            print('req {} checked. No issue!'.format(i))\n",
    "        else:\n",
    "            print('req {} has problem!'. format(i))\n",
    "\n",
    "    \n",
    "#==================================================================================\n",
    "    \n",
    "    \n",
    "def check_request(requests_full, airport_req_dict, _belong_airport_dict, num_airports, pot_dem_dict):\n",
    "    check_if_same_org_dest(requests_full)\n",
    "    check_correspond_time_slot(requests_full)\n",
    "    check_correspond_date(requests_full)\n",
    "    check_date_seq(requests_full)\n",
    "    check_exceed_period(requests_full)\n",
    "    \n",
    "    check_duplication_each_req_airport(airport_req_dict, num_airports)\n",
    "    check_correct_dep_arv_binary_values(airport_req_dict, _belong_airport_dict, num_airports)\n",
    "    check_pot_dem_dict(airport_req_dict, num_airports, pot_dem_dict)"
   ]
  },
  {
   "cell_type": "code",
   "execution_count": 45,
   "metadata": {},
   "outputs": [
    {
     "name": "stdout",
     "output_type": "stream",
     "text": [
      "Check if any same origin and destination done!\n",
      "Check corresponding time slot done!\n",
      "Check start date done!\n",
      "Check date seq done!\n",
      "Check exceed period done!\n",
      "Check duplication per airport req done!\n",
      "Check dep and arv status done!\n",
      "req 0 checked. No issue!\n",
      "req 1 checked. No issue!\n",
      "req 2 checked. No issue!\n",
      "0:=======================================\n",
      "Check if any same origin and destination done!\n",
      "Check corresponding time slot done!\n",
      "Check start date done!\n",
      "Check date seq done!\n",
      "Check exceed period done!\n",
      "Check duplication per airport req done!\n",
      "Check dep and arv status done!\n",
      "req 0 checked. No issue!\n",
      "req 1 checked. No issue!\n",
      "req 2 checked. No issue!\n",
      "1:=======================================\n",
      "Check if any same origin and destination done!\n",
      "Check corresponding time slot done!\n",
      "Check start date done!\n",
      "Check date seq done!\n",
      "Check exceed period done!\n",
      "Check duplication per airport req done!\n",
      "Check dep and arv status done!\n",
      "req 0 checked. No issue!\n",
      "req 1 checked. No issue!\n",
      "req 2 checked. No issue!\n",
      "2:=======================================\n"
     ]
    },
    {
     "ename": "KeyboardInterrupt",
     "evalue": "",
     "output_type": "error",
     "traceback": [
      "\u001b[0;31m---------------------------------------------------------------------------\u001b[0m",
      "\u001b[0;31mKeyboardInterrupt\u001b[0m                         Traceback (most recent call last)",
      "Input \u001b[0;32mIn [45]\u001b[0m, in \u001b[0;36m<cell line: 1>\u001b[0;34m()\u001b[0m\n\u001b[1;32m      1\u001b[0m \u001b[38;5;28;01mfor\u001b[39;00m i \u001b[38;5;129;01min\u001b[39;00m \u001b[38;5;28mrange\u001b[39m(\u001b[38;5;241m100\u001b[39m):\n\u001b[1;32m      2\u001b[0m     num_airports \u001b[38;5;241m=\u001b[39m \u001b[38;5;241m3\u001b[39m\n\u001b[0;32m----> 3\u001b[0m     requests_full, airport_req_dict, _belong_airport_dict, pot_dem_dict, cap_dem_dict \u001b[38;5;241m=\u001b[39m \u001b[43mgenerate_scenario\u001b[49m\u001b[43m(\u001b[49m\u001b[43mnumber_of_requests\u001b[49m\u001b[43m \u001b[49m\u001b[38;5;241;43m=\u001b[39;49m\u001b[43m \u001b[49m\u001b[38;5;241;43m15000\u001b[39;49m\u001b[43m,\u001b[49m\u001b[43m \u001b[49m\u001b[43mnum_airports\u001b[49m\u001b[43m \u001b[49m\u001b[38;5;241;43m=\u001b[39;49m\u001b[43m \u001b[49m\u001b[38;5;241;43m3\u001b[39;49m\u001b[43m,\u001b[49m\u001b[43m \u001b[49m\u001b[43mcap_dict\u001b[49m\u001b[43m \u001b[49m\u001b[38;5;241;43m=\u001b[39;49m\u001b[43m \u001b[49m\u001b[43mcap_dict\u001b[49m\u001b[43m)\u001b[49m\n\u001b[1;32m      4\u001b[0m     check_request(requests_full, airport_req_dict, _belong_airport_dict, num_airports, pot_dem_dict)\n\u001b[1;32m      5\u001b[0m     \u001b[38;5;28mprint\u001b[39m(\u001b[38;5;124m'\u001b[39m\u001b[38;5;132;01m{}\u001b[39;00m\u001b[38;5;124m:=======================================\u001b[39m\u001b[38;5;124m'\u001b[39m\u001b[38;5;241m.\u001b[39mformat(i))\n",
      "Input \u001b[0;32mIn [7]\u001b[0m, in \u001b[0;36mgenerate_scenario\u001b[0;34m(number_of_requests, num_airports, cap_dict)\u001b[0m\n\u001b[1;32m     85\u001b[0m \u001b[38;5;66;03m#pseudo_belong_dep = np.full((number_of_requests,), 0)\u001b[39;00m\n\u001b[1;32m     86\u001b[0m \u001b[38;5;66;03m#pseudo_belong_arv = np.full((number_of_requests,), 0)\u001b[39;00m\n\u001b[1;32m     88\u001b[0m requests_full \u001b[38;5;241m=\u001b[39m np\u001b[38;5;241m.\u001b[39mstack((index, ts_dep, start_date_dep, num_of_weeks, date_seq_dep, origin_airport, destination_airport, fly_time, status_cap_dep, ts_arv, start_date_arv, date_seq_arv, status_cap_arv), axis\u001b[38;5;241m=\u001b[39m\u001b[38;5;241m1\u001b[39m)\n\u001b[0;32m---> 90\u001b[0m airport_req_dict, _belong_airport_dict \u001b[38;5;241m=\u001b[39m \u001b[43mget_airport_req_dict\u001b[49m\u001b[43m(\u001b[49m\u001b[43mrequests_full\u001b[49m\u001b[43m,\u001b[49m\u001b[43m \u001b[49m\u001b[43mnum_airports\u001b[49m\u001b[43m)\u001b[49m\n\u001b[1;32m     92\u001b[0m pot_dem_dict \u001b[38;5;241m=\u001b[39m get_initial_pot_dem_per_airport(airport_req_dict, num_airports)\n\u001b[1;32m     94\u001b[0m cap_dem_dict \u001b[38;5;241m=\u001b[39m get_cap_dem_dict(num_airports, cap_dict, pot_dem_dict)\n",
      "Input \u001b[0;32mIn [12]\u001b[0m, in \u001b[0;36mget_airport_req_dict\u001b[0;34m(requests_full, num_airports)\u001b[0m\n\u001b[1;32m     22\u001b[0m     _found_dep \u001b[38;5;241m=\u001b[39m \u001b[38;5;241m1\u001b[39m\n\u001b[1;32m     23\u001b[0m     \u001b[38;5;66;03m#airport_req_dict['req_{}'.format(k)] = np.append(airport_req_dict['req_{}'.format(k)], 1)\u001b[39;00m\n\u001b[1;32m     24\u001b[0m     \u001b[38;5;66;03m#airport_req_dict['req_{}'.format(k)] = np.append(airport_req_dict['req_{}'.format(k)], 0)\u001b[39;00m\n\u001b[1;32m     25\u001b[0m     \u001b[38;5;66;03m#break\u001b[39;00m\n\u001b[0;32m---> 26\u001b[0m \u001b[38;5;28;01mif\u001b[39;00m requests_full[i][\u001b[38;5;241m6\u001b[39m] \u001b[38;5;241m==\u001b[39m _belong_airport_dict[\u001b[38;5;124;43m'\u001b[39;49m\u001b[38;5;124;43mreq_\u001b[39;49m\u001b[38;5;132;43;01m{}\u001b[39;49;00m\u001b[38;5;124;43m'\u001b[39;49m\u001b[38;5;241;43m.\u001b[39;49m\u001b[43mformat\u001b[49m\u001b[43m(\u001b[49m\u001b[43mk\u001b[49m\u001b[43m)\u001b[49m]:\n\u001b[1;32m     27\u001b[0m     _arv_req \u001b[38;5;241m=\u001b[39m np\u001b[38;5;241m.\u001b[39mappend(requests_full[i], \u001b[38;5;241m0\u001b[39m)\n\u001b[1;32m     28\u001b[0m     _arv_req \u001b[38;5;241m=\u001b[39m np\u001b[38;5;241m.\u001b[39mappend(_arv_req, \u001b[38;5;241m1\u001b[39m)\n",
      "\u001b[0;31mKeyboardInterrupt\u001b[0m: "
     ]
    }
   ],
   "source": [
    "for i in range(100):\n",
    "    num_airports = 3\n",
    "    requests_full, airport_req_dict, _belong_airport_dict, pot_dem_dict, cap_dem_dict = generate_scenario(number_of_requests = 15000, num_airports = 3, cap_dict = cap_dict)\n",
    "    check_request(requests_full, airport_req_dict, _belong_airport_dict, num_airports, pot_dem_dict)\n",
    "    print('{}:======================================='.format(i))"
   ]
  },
  {
   "cell_type": "code",
   "execution_count": null,
   "metadata": {},
   "outputs": [],
   "source": [
    "#Previous single-agent simulator:\n",
    "\n",
    "class SchedEnv(gym.Env):\n",
    "    def __init__(self, number_of_actions, number_of_request, number_of_days):\n",
    "        \n",
    "        super(SchedEnv, self).__init__()\n",
    "        self.number_of_actions = int(number_of_actions) #Number of action should be an odd number\n",
    "        self.do_nothing_action = int((self.number_of_actions - 1)/2)\n",
    "        self.number_of_request = number_of_request\n",
    "        self.number_of_days = number_of_days\n",
    "        self.generate_scenario()\n",
    "        _cap_dem_flat = self.cap_dem_arr.flatten()\n",
    "        #Test lai so lan chay while o day, neu ko thi dung pattern (distribution) de chac chan over:\n",
    "        while min(_cap_dem_flat) >= 0:\n",
    "            self.generate_scenario()\n",
    "            _cap_dem_flat = self.cap_dem_arr.flatten()\n",
    "        self.update_status_capacity\n",
    "        #Check number of training step:\n",
    "        self.num_step = 0\n",
    "        \n",
    "        \n",
    "#         #Get remaining cap:\n",
    "#         self.cap_dem_df = self.cap_df - self.pot_dem_df\n",
    "        \n",
    "        #Define action and observation space:\n",
    "        self.action_space = spaces.Discrete(int(number_of_actions)) #TODO can change later if increase the number of shifting slot\n",
    "        #self.observation_space = spaces.Box(low= -np.inf, high= np.inf, shape=(5, 11), dtype=np.float)\n",
    "        self.observation_space = spaces.Box(low= -np.inf, high= np.inf, shape=(self.number_of_actions + 1,), dtype=float)\n",
    "        \n",
    "\n",
    "    def generate_scenario(self):\n",
    "        #Generate requests:\n",
    "#         number_of_request = 80\n",
    "#         number_of_days = 14\n",
    "\n",
    "#         time_slot = list(np.random.randint(low = 0, high=12, size=number_of_request))\n",
    "\n",
    "#         start_date = list(np.random.randint(low = 0, high=7, size=number_of_request))\n",
    "\n",
    "#         num_of_weeks = list(np.random.randint(low = 1, high=3, size=number_of_request))\n",
    "        \n",
    "    \n",
    "        #Change parameters here:\n",
    "#         self.number_of_request = number_of_request\n",
    "#         self.number_of_days = number_of_days\n",
    "\n",
    "        #Generate time slot, 2 peak time slots are 72 and 216 (TODO to be changed accordingly later):\n",
    "        ts_72 = get_truncated_normal(mean=72, sd=12, low=0, upp=287).rvs(int(round(self.number_of_request/2)))\n",
    "        ts_72 = np.round(ts_72)\n",
    "\n",
    "        ts_216 = get_truncated_normal(mean=216, sd=12, low=0, upp=287).rvs(int(round(self.number_of_request/2)))\n",
    "        ts_216 = np.round(ts_216)\n",
    "\n",
    "        ts_arr = np.concatenate((ts_72, ts_216))\n",
    "        ts_arr = ts_arr.astype(int)\n",
    "\n",
    "        #Generate start date:\n",
    "        start_date_arr = np.random.randint(low = 0, high=6, size=self.number_of_request) #This is only for more than 150 days only\n",
    "        start_date_arr = start_date_arr*30\n",
    "        #start_date_arr = np.random.randint(low = 0, high=self.number_of_days, size=self.number_of_request)\n",
    "\n",
    "        #Generate number of weeks:\n",
    "        _max_day = np.full(self.number_of_request, self.number_of_days - 1)\n",
    "\n",
    "        _remaining_days_arr = _max_day - start_date_arr\n",
    "\n",
    "        _max_num_of_weeks_arr = _remaining_days_arr // 7\n",
    "\n",
    "        num_of_weeks_arr = np.random.randint(1, _max_num_of_weeks_arr + 2)\n",
    "        \n",
    "        #Generate index for requests:\n",
    "        \n",
    "        index_arr = np.array(list(range(self.number_of_request)))\n",
    "        \n",
    "        #Get date sequence:\n",
    "\n",
    "        date_seq_arr = get_date_seq(start_date_arr, num_of_weeks_arr)\n",
    "        \n",
    "        #Generate status cap:\n",
    "        \n",
    "        status_cap_arr = np.full((self.number_of_request,), 0)\n",
    "\n",
    "        self.req_arr = np.stack((index_arr, ts_arr, start_date_arr, num_of_weeks_arr, date_seq_arr, status_cap_arr), axis=1)\n",
    "        \n",
    "        \n",
    "        #Generate capacity:\n",
    "        self.cap_arr = np.full((288, self.number_of_days), 20)\n",
    "        \n",
    "        \n",
    "        #Create final_sched:\n",
    "        self.final_sched_arr = self.req_arr.copy()\n",
    "        \n",
    "        #Get potential demand: #Check again the function here (turn to array)\n",
    "        self.pot_dem_arr = self.get_initial_pot_dem()\n",
    "        \n",
    "        #Get remaining cap:\n",
    "        self.cap_dem_arr = self.cap_arr - self.pot_dem_arr\n",
    "        \n",
    "    def get_date_seq(row):\n",
    "        return(list(range(row['start_date'], row['start_date'] + row['num_of_weeks']*7, 7)))\n",
    "    \n",
    "    def check_in_date_seq(row, value):\n",
    "        if value in row['date_seq']:\n",
    "            return True\n",
    "        else:\n",
    "            return False\n",
    "    \n",
    "    def get_initial_pot_dem(self): #Replace req_df to req_df_update to update pot_dem_df #To be replaced with final_sched\n",
    "        pot_dem_arr = np.full((288, self.number_of_days), 0)\n",
    "        #TODO: increase speed\n",
    "        for i in range(len(self.final_sched_arr)):\n",
    "            _time_slot = int(self.final_sched_arr[i,1])\n",
    "            _date_seq = self.final_sched_arr[i,4]\n",
    "            pot_dem_arr[_time_slot, _date_seq] += 1\n",
    "        return pot_dem_arr    \n",
    "\n",
    "\n",
    "    #To be updated:            \n",
    "    def update_pot_dem(self, action):\n",
    "        if not self.check_outbound(action):\n",
    "            if action != self.do_nothing_action:\n",
    "                _time_slot = self.chosen_req_arr[1]\n",
    "                _date_seq = self.chosen_req_arr[4]\n",
    "                self.pot_dem_arr[_time_slot, _date_seq] -= 1\n",
    "                self.pot_dem_arr[_time_slot + action - self.do_nothing_action, _date_seq] += 1       \n",
    "            \n",
    "    def update_status_capacity(self):\n",
    "        #Them cot cap_status o init:\n",
    "        for i in range(len(self.final_sched_arr)):\n",
    "            _time_slot = int(self.final_sched_arr[i,1])\n",
    "            _date_seq = self.final_sched_arr[i,4]\n",
    "            if all(x >= 0 for x in self.cap_dem_arr[_time_slot, _date_seq]):\n",
    "                #print(self.cap_dem_arr[_time_slot, _date_seq])\n",
    "                self.final_sched_arr[i,5] = 0\n",
    "            else:\n",
    "                self.final_sched_arr[i,5] = 1\n",
    "        \n",
    "    def get_req(self):\n",
    "            \n",
    "        #Them cot status capacity of req trong req_df and update moi khi take action, chu y la con lien quan toi req khac\n",
    "        _chosen_req = self.final_sched_arr[self.final_sched_arr[:,5] == 1]\n",
    "        #print(_chosen_req)\n",
    "        #print(self.final_sched_arr)\n",
    "        #print(np.unique(env.cap_dem_arr))\n",
    "        self.chosen_req_arr = random.choice(_chosen_req)\n",
    "        #return self.chosen_req_arr\n",
    "           \n",
    "    def check_outbound(self):\n",
    "        pass\n",
    "    \n",
    "    \n",
    "    #TODO: change to 288 when changing time slot\n",
    "    def _take_action(self, action):\n",
    "        if not self.check_outbound(action):\n",
    "            self.final_sched_arr[self.chosen_req_arr[0],1] += action - self.do_nothing_action\n",
    "            \n",
    "    #Additional func:\n",
    "    \n",
    "#     def full_obs(_cap_dem_chosen_req):\n",
    "#         _obs_min_arr = np.full((288+5*2, ), 0)\n",
    "#         for i in range(len(_cap_dem_chosen_req)):\n",
    "#             _obs_min_arr[i+5] = min(_cap_dem_chosen_req[i])\n",
    "#         return _obs_min_arr\n",
    "            \n",
    "    \n",
    "    def _next_observation(self):\n",
    "        self.get_req()\n",
    "        _time_slot = self.chosen_req_arr[1]\n",
    "        _num_of_weeks = self.chosen_req_arr[3]\n",
    "        _date_seq = self.chosen_req_arr[4]\n",
    "        _cap_dem_chosen_req = self.cap_dem_arr[:, _date_seq].copy()\n",
    "        #print(self.number_of_actions, type(self.number_of_actions))\n",
    "        _obs_min_arr = full_obs(_cap_dem_chosen_req, self.number_of_actions)\n",
    "        _obs_time_slot_related = list(range(_time_slot, _time_slot + self.number_of_actions, 1))\n",
    "        _cap_dem_obs = _obs_min_arr[_obs_time_slot_related]\n",
    "\n",
    "        self.obs = np.append(_cap_dem_obs, _num_of_weeks)\n",
    "        \n",
    "        return self.obs\n",
    "    \n",
    "    def step(self, action):\n",
    "        self._take_action(action)\n",
    "        self.update_pot_dem(action)\n",
    "        #Update cap_dem_df:\n",
    "        self.cap_dem_arr = self.cap_arr - self.pot_dem_arr\n",
    "        self.update_status_capacity()\n",
    "        \n",
    "        \n",
    "        #Reward part: (TODO change to 288), must add reward for violating capacity\n",
    "        local_reward = 0\n",
    "        if self.check_outbound(action):\n",
    "            local_reward = -1\n",
    "        else:\n",
    "            local_reward = 0.1*(-abs(action-self.do_nothing_action)*0.5*self.chosen_req_arr[3]) #TODO change if increase number of actions\n",
    "#         print('Local reward is: \\n')\n",
    "#         print(local_reward)\n",
    "        \n",
    "        reward_action = self.reward_action(action) #Must put before next obs\n",
    "        \n",
    "        self.num_step += 1\n",
    "        done = False\n",
    "        \n",
    "        _cap_dem_violate = self.cap_dem_arr[self.cap_dem_arr < 0]\n",
    "        if _cap_dem_violate.size == 0:\n",
    "            done = True\n",
    "            obs = np.zeros((self.number_of_actions + 1,)) #Change to a positive number\n",
    "            global_reward = 100 #TODO change according to the number of req\n",
    "            \n",
    "        elif self.num_step == len(self.req_arr)*5: #TODO parameter\n",
    "            done = True\n",
    "            obs = np.zeros((self.number_of_actions + 1,))\n",
    "            #_cap_dem_check = _cap_dem_check.values.flatten()\n",
    "            _violate_num = self.cap_dem_arr[self.cap_dem_arr < 0]\n",
    "            global_reward = -sum(abs(_violate_num))*10\n",
    "            \n",
    "        else:\n",
    "            global_reward = 0\n",
    "            obs = self._next_observation()\n",
    "        \n",
    "        reward_time_step = -0.5\n",
    "            \n",
    "        reward = local_reward + global_reward + reward_action + reward_time_step\n",
    "        reward = float(reward)\n",
    "    \n",
    "        return obs, reward, done, {}\n",
    "        \n",
    "    def reward_action(self, action):\n",
    "        _time_slot = self.chosen_req_arr[1]\n",
    "        \n",
    "        _num_of_weeks = self.chosen_req_arr[3]\n",
    "\n",
    "        _date_seq = self.chosen_req_arr[4]\n",
    "        \n",
    "        _cap_dem_chosen_req = self.cap_dem_arr[:,_date_seq].copy()\n",
    "        \n",
    "        \n",
    "        if self.check_outbound(action):\n",
    "            reward_action = 0\n",
    "        else:\n",
    "            if action == self.do_nothing_action:\n",
    "                _cap_dem_inital = _cap_dem_chosen_req[_time_slot]\n",
    "            else:\n",
    "                _cap_dem_inital = _cap_dem_chosen_req[_time_slot] - 1 #Since we have update demand\n",
    "            #print(\"Cap dem initial:\", _cap_dem_inital)\n",
    "            _cap_dem_new_slot = _cap_dem_chosen_req[_time_slot + action - self.do_nothing_action]\n",
    "            #print(\"Cap dem new:\", _cap_dem_new_slot)\n",
    "            if len(_cap_dem_inital[_cap_dem_inital < 0]) == 0:\n",
    "                initial_under = True\n",
    "            else:\n",
    "                initial_under = False\n",
    "\n",
    "            if len(_cap_dem_new_slot[_cap_dem_new_slot < 0]) == 0:\n",
    "                new_slot_under = True\n",
    "            else:\n",
    "                new_slot_under = False\n",
    "\n",
    "            if initial_under and new_slot_under:\n",
    "                reward_action = 0\n",
    "\n",
    "            elif initial_under and not new_slot_under:  #TODO update to -5*num_of_weeks\n",
    "                #reward_action = -5\n",
    "                reward_action = -(self.number_of_actions*_num_of_weeks*0.1)/4\n",
    "\n",
    "            elif not initial_under and new_slot_under:\n",
    "                #reward_action = 5\n",
    "                reward_action = (self.number_of_actions*_num_of_weeks*0.1)/4\n",
    "\n",
    "            else:\n",
    "                reward_action = 0\n",
    "        \n",
    "        #print('Reward action:\\n', reward_action)\n",
    "        return reward_action\n",
    "    \n",
    "    def check_outbound(self, action):\n",
    "        _time_slot = self.chosen_req_arr[1]\n",
    "        if ((_time_slot + (action - self.do_nothing_action)) < 0) or ((_time_slot + (action - self.do_nothing_action)) > 287):\n",
    "            outbound = True\n",
    "        else:\n",
    "            outbound = False\n",
    "        #print('Time slot:\\n', _id)\n",
    "        #print('Action:\\n', action)\n",
    "        #print('Outbound:\\n', outbound)\n",
    "        return outbound\n",
    "        \n",
    "    \n",
    "    #TODO change to 288\n",
    "    def check(self):\n",
    "        #TODO change according to capacity\n",
    "        if sum(sum(self.pot_dem_arr)) == sum(self.req_arr[:,3]):\n",
    "            print('Pot_dem_arr passed!')\n",
    "        else:\n",
    "            print('+++++++++++++++++++++++++')\n",
    "            raise ValueError('Check Pot_dem_arr!')\n",
    "\n",
    "        if sum(sum(self.cap_dem_arr)) == 14*288*2 - sum(self.req_arr[:,3]):\n",
    "            print('Pot_dem_df passed!')\n",
    "        else:\n",
    "            print('+++++++++++++++++++++++++')\n",
    "            raise ValueError('Check pot_dem_df!')\n",
    "            \n",
    "    #TODO: Implement for valuation:\n",
    "    def check_num_violate(self):\n",
    "        pass\n",
    "    \n",
    "    def reset(self):\n",
    "        #done = False\n",
    "        \n",
    "        self.generate_scenario()\n",
    "        _cap_dem_flat = self.cap_dem_arr.flatten()\n",
    "        #Test lai so lan chay while o day, neu ko thi dung pattern (distribution) de chac chan over:\n",
    "        while min(_cap_dem_flat) >= 0:\n",
    "            self.generate_scenario()\n",
    "            _cap_dem_flat = self.cap_dem_arr.flatten()\n",
    "        self.update_status_capacity()\n",
    "        print('Number of violation: ', len(_cap_dem_flat[_cap_dem_flat < 0]))\n",
    "        \n",
    "        #print('Min cap dem flat:\\n', min(_cap_dem_flat))\n",
    "\n",
    "        #Check number of training step:\n",
    "        self.num_step = 0\n",
    "        #print('Initial sched:\\n', env.req_df)\n",
    "        #print('Initial cap dem:\\n', env.cap_dem_df)\n",
    "        \n",
    "        \n",
    "        return self._next_observation()\n",
    "\n",
    "    #Add them eval schedule delay among requests (min, max, mean schedule delay)\n",
    "    def eval(self):\n",
    "        _initial_pot_dem_arr = np.full((288, self.number_of_days), 0)\n",
    "        for i in range(len(self.req_arr)):\n",
    "            _time_slot = int(self.req_arr[i,1])\n",
    "            _date_seq = self.req_arr[i,4]\n",
    "            _initial_pot_dem_arr[_time_slot, _date_seq] += 1\n",
    "        _initial_cap_dem = self.cap_arr - _initial_pot_dem_arr\n",
    "        \n",
    "        _initial_cap_dem_flat = _initial_cap_dem.flatten()\n",
    "        _initial_violate = len(_initial_cap_dem_flat[_initial_cap_dem_flat < 0])\n",
    "        print('Initial violation is: ', _initial_violate)\n",
    "        _final_cap_dem_flat = self.cap_dem_arr.flatten()\n",
    "        _final_violate = len(_final_cap_dem_flat[_final_cap_dem_flat < 0])\n",
    "        print('Final violation is: ', _final_violate)\n",
    "        _total_sched_delay = sum(abs(self.req_arr[:,1] - self.final_sched_arr[:,1])* self.req_arr[:,3])\n",
    "        print('Total schedule delay is: ', _total_sched_delay)\n",
    "        _max_shift = max(abs(self.req_arr[:,1] - self.final_sched_arr[:,1]))\n",
    "        print('Max shift: ', _max_shift)\n",
    "        return _initial_violate, _final_violate, _total_sched_delay, _max_shift\n",
    "        \n",
    "        \n",
    "    def get_scenario(self):\n",
    "        return self.req_arr, self.cap_arr\n",
    "        \n",
    "        \n",
    "        \n",
    "        #print('=================================')\n",
    "        #print('Initial requests: \\n')\n",
    "        #print(self.req_df)\n",
    "        #print('Initial capacity: \\n')\n",
    "        #print(self.cap_df)\n",
    "        #print('Initial potential demand: \\n')\n",
    "        #print(self.pot_dem_df)\n",
    "        #print('=================================')\n",
    "        #print('Final schedule is: \\n')\n",
    "        #print(self.final_sched)\n",
    "    \n",
    "#     def check_2(self):\n",
    "#         time_slot_final = self.final_sched['time_slot']\n",
    "#         time_slot_final = time_slot_final.values.flatten()\n",
    "#         start_date_final = self.final_sched['start_date']\n",
    "#         start_date_final = start_date_final.values.flatten()\n",
    "#         if all(12 > element > -1 for element in time_slot_final):\n",
    "#             print('Time slot OK!')\n",
    "#         else:\n",
    "#             raise ValueError('Check time slot final!')\n",
    "        \n",
    "#         if all(14 > element > -1 for element in start_date_final):\n",
    "#             print('Start date OK!')\n",
    "#         else:\n",
    "#             raise ValueError('Check start date final!')    "
   ]
  },
  {
   "cell_type": "code",
   "execution_count": null,
   "metadata": {},
   "outputs": [],
   "source": [
    "def get_initial_pot_dem(): #Replace req_df to req_df_update to update pot_dem_df #To be replaced with final_sched\n",
    "    pot_dem_arr = np.full((288, 182), 0)\n",
    "    #TODO: increase speed\n",
    "    for i in range(len(final_sched_arr)):\n",
    "        _time_slot = int(final_sched_arr[i,1])\n",
    "        _date_seq = final_sched_arr[i,4]\n",
    "        pot_dem_arr[_time_slot, _date_seq] += 1\n",
    "    return pot_dem_arr  "
   ]
  },
  {
   "cell_type": "code",
   "execution_count": null,
   "metadata": {},
   "outputs": [],
   "source": [
    "for i in range(10):\n",
    "    origin_airport_arr = one_hot_encode_airport(random.randint(0, 2), 3)\n",
    "    dest_airport_arr = origin_airport_arr.copy()\n",
    "    while np.array_equal(dest_airport_arr, origin_airport_arr):\n",
    "        np.random.shuffle(dest_airport_arr)\n",
    "    print(\"o:\", origin_airport_arr)\n",
    "    print(\"d:\", dest_airport_arr)"
   ]
  }
 ],
 "metadata": {
  "kernelspec": {
   "display_name": "schedenv-kernel",
   "language": "python",
   "name": "schedenv-kernel"
  },
  "language_info": {
   "codemirror_mode": {
    "name": "ipython",
    "version": 3
   },
   "file_extension": ".py",
   "mimetype": "text/x-python",
   "name": "python",
   "nbconvert_exporter": "python",
   "pygments_lexer": "ipython3",
   "version": "3.10.4"
  }
 },
 "nbformat": 4,
 "nbformat_minor": 4
}
