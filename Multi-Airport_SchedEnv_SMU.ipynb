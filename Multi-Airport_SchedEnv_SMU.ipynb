{
 "cells": [
  {
   "cell_type": "code",
   "execution_count": 1,
   "metadata": {},
   "outputs": [
    {
     "name": "stderr",
     "output_type": "stream",
     "text": [
      "c:\\Python310\\lib\\site-packages\\tqdm\\auto.py:22: TqdmWarning: IProgress not found. Please update jupyter and ipywidgets. See https://ipywidgets.readthedocs.io/en/stable/user_install.html\n",
      "  from .autonotebook import tqdm as notebook_tqdm\n"
     ]
    }
   ],
   "source": [
    "import gym\n",
    "from gym import spaces\n",
    "\n",
    "import random\n",
    "import scipy\n",
    "import numpy as np\n",
    "import pandas as pd\n",
    "\n",
    "import stable_baselines3\n",
    "from stable_baselines3.sac.policies import MlpPolicy\n",
    "from stable_baselines3.common.vec_env import DummyVecEnv\n",
    "from stable_baselines3 import DQN"
   ]
  },
  {
   "cell_type": "code",
   "execution_count": 2,
   "metadata": {},
   "outputs": [],
   "source": [
    "#Function for normal distribution truncation:\n",
    "\n",
    "from scipy.stats import truncnorm\n",
    "\n",
    "def get_truncated_normal(mean, sd, low, upp):\n",
    "    return truncnorm((low - mean) / sd, (upp - mean) / sd, loc=mean, scale=sd)"
   ]
  },
  {
   "cell_type": "code",
   "execution_count": 3,
   "metadata": {},
   "outputs": [],
   "source": [
    "#Function to get date sequence based on start_date and num_of_weeks:\n",
    "# Works for Multi-Agent?\n",
    "\n",
    "def get_date_seq(start_date_arr, num_of_weeks_arr): #start_date index 2, num_of_weeks index 3\n",
    "    date_seq_arr = np.empty(shape=(len(start_date_arr),), dtype='object')\n",
    "    for i in range(len(date_seq_arr)):\n",
    "        date_seq_arr[i] = list(range(int(start_date_arr[i]), int(start_date_arr[i]) + int(num_of_weeks_arr[i])*7, 7))\n",
    "    return date_seq_arr"
   ]
  },
  {
   "cell_type": "code",
   "execution_count": 4,
   "metadata": {},
   "outputs": [],
   "source": [
    "#Function to get observation (still for single env, need to modify for multi-agent env):\n",
    "\n",
    "def full_obs(_cap_dem_chosen_req, number_of_actions):\n",
    "    _obs_min_arr = np.full((288+number_of_actions-1, ), 0)\n",
    "    for i in range(len(_cap_dem_chosen_req)):\n",
    "        _obs_min_arr[i+int((number_of_actions-1)/2)] = min(_cap_dem_chosen_req[i])\n",
    "    return _obs_min_arr"
   ]
  },
  {
   "cell_type": "code",
   "execution_count": 5,
   "metadata": {},
   "outputs": [
    {
     "name": "stdout",
     "output_type": "stream",
     "text": [
      "[1. 0. 0.]\n",
      "[0. 1. 0.]\n",
      "[0. 0. 1.]\n"
     ]
    }
   ],
   "source": [
    "#Function to get the one-hot-encoded vectors for departure and arrival airports:\n",
    "\n",
    "def one_hot_encode_airport(airport, num_airports):\n",
    "    encoding = np.zeros(num_airports)\n",
    "    encoding[airport] = 1\n",
    "    return encoding\n",
    "\n",
    "# Example usage\n",
    "num_airports = 3\n",
    "airport1 = 0\n",
    "airport2 = 1\n",
    "airport3 = 2\n",
    "\n",
    "encoded_airport1 = one_hot_encode_airport(airport1, num_airports)\n",
    "encoded_airport2 = one_hot_encode_airport(airport2, num_airports)\n",
    "encoded_airport3 = one_hot_encode_airport(airport3, num_airports)\n",
    "\n",
    "print(encoded_airport1)\n",
    "print(encoded_airport2)\n",
    "print(encoded_airport3)"
   ]
  },
  {
   "cell_type": "code",
   "execution_count": 6,
   "metadata": {},
   "outputs": [],
   "source": [
    "#Generate full info for the arrival sides:\n",
    "\n",
    "def generate_info_arv(requests):\n",
    "    ts_arv = np.empty(shape=(len(requests),), dtype='object')\n",
    "    start_date_arv = np.empty(shape=(len(requests),), dtype='object')\n",
    "    #date_seq_arv = np.empty(shape=(len(requests),), dtype='object')\n",
    "    for i in range(len(requests)):\n",
    "        ts_arv[i] = requests[i][1] + requests[i][7]/5\n",
    "        if ts_arv[i] > 287:\n",
    "            ts_arv[i] = ts_arv[i] - 287\n",
    "            start_date_arv[i] = requests[i][2] + 1\n",
    "        else:\n",
    "            start_date_arv[i] = requests[i][2]\n",
    "    date_seq_arv = get_date_seq(start_date_arv, requests[:, 3])\n",
    "    return ts_arv, start_date_arv, date_seq_arv"
   ]
  },
  {
   "cell_type": "code",
   "execution_count": 7,
   "metadata": {},
   "outputs": [],
   "source": [
    "#Generate the multi-agent scenario:\n",
    "\n",
    "#=======================================================\n",
    "\n",
    "#Modify the distribution based on historical data later:\n",
    "def generate_scenario(number_of_requests, num_airports, cap_dict):\n",
    "    \n",
    "    #number_of_requests = 15000\n",
    "    ts_72 = get_truncated_normal(mean=72, sd=12, low=0, upp=287).rvs(int(round(number_of_requests/2)))\n",
    "    ts_72 = np.round(ts_72)\n",
    "\n",
    "    ts_216 = get_truncated_normal(mean=216, sd=12, low=0, upp=287).rvs(int(round(number_of_requests/2)))\n",
    "    ts_216 = np.round(ts_216)\n",
    "\n",
    "    ts_dep = np.concatenate((ts_72, ts_216))\n",
    "    ts_dep = ts_dep.astype(int)\n",
    "\n",
    "    #Generate start date:\n",
    "\n",
    "    start_date_dep = np.random.randint(low = 0, high=146, size=number_of_requests) #146 because period is 182 days and we consider series which span at least 5 weeks (+35 days)\n",
    "\n",
    "    #Generate number of weeks:\n",
    "\n",
    "    _max_day = np.full(number_of_requests, 182 - 1)\n",
    "\n",
    "    _remaining_days = _max_day - start_date_dep\n",
    "\n",
    "    _max_num_of_weeks = _remaining_days // 7\n",
    "\n",
    "    num_of_weeks = np.random.randint(5, _max_num_of_weeks + 1)\n",
    "\n",
    "    #Generate index for requests:\n",
    "\n",
    "    index = np.array(list(range(number_of_requests)))\n",
    "\n",
    "    #Generate origin (0 and 1 are two considered origin airports, 2 represent other airports, encoded in one-hot vector):\n",
    "\n",
    "    #num_airports = 3\n",
    "    origin_airport = np.empty(shape=(number_of_requests,), dtype='object')\n",
    "    destination_airport = np.empty(shape=(number_of_requests,), dtype='object')\n",
    "    for i in range(number_of_requests):\n",
    "        _org_airport = one_hot_encode_airport(random.randint(0,2), num_airports)\n",
    "        _org_airport_list = _org_airport.tolist()\n",
    "        origin_airport[i] = _org_airport_list\n",
    "        #Generate destination (the destination will be different with the origin):\n",
    "        _dest_airport = _org_airport.copy()\n",
    "        while np.array_equal(_dest_airport, _org_airport):\n",
    "            np.random.shuffle(_dest_airport)\n",
    "        _dest_airport_list = _dest_airport.tolist()\n",
    "        destination_airport[i] = _dest_airport_list\n",
    "\n",
    "    #Generate flying time (assume between airport 0 and 1 is 2 hour, 0 to 2 and 1 to 2 is arbitrary):\n",
    "\n",
    "    fly_time = np.empty(shape=(number_of_requests,), dtype='object')\n",
    "    for i in range (number_of_requests):\n",
    "        if origin_airport[i] == list([1.0, 0.0, 0.0]) and destination_airport[i] == list([0.0, 1.0, 0.0]):\n",
    "            fly_time[i] = 120\n",
    "        elif origin_airport[i] == list([1.0, 0.0, 0.0]) and destination_airport[i] == list([0.0, 0.0, 1.0]):\n",
    "            fly_time[i] = random.choice([60, 120, 180])\n",
    "        elif origin_airport[i] == list([0.0, 1.0, 0.0]) and destination_airport[i] == list([1.0, 0.0, 0.0]):\n",
    "            fly_time[i] = 120\n",
    "        elif origin_airport[i] == list([0.0, 1.0, 0.0]) and destination_airport[i] == list([0.0, 0.0, 1.0]):\n",
    "            fly_time[i] = random.choice([60, 120, 180])\n",
    "        elif origin_airport[i] == list([0.0, 0.0, 1.0]) and destination_airport[i] == list([1.0, 0.0, 0.0]):\n",
    "            fly_time[i] = random.choice([60, 120, 180])\n",
    "        elif origin_airport[i] == list([0.0, 0.0, 1.0]) and destination_airport[i] == list([0.0, 1.0, 0.0]):\n",
    "            fly_time[i] = random.choice([60, 120, 180])\n",
    "\n",
    "    #Get date sequence (date seq is actually a list):\n",
    "\n",
    "    date_seq_dep = get_date_seq(start_date_dep, num_of_weeks)\n",
    "\n",
    "    #Generate status cap:\n",
    "\n",
    "    status_cap_dep = np.full((number_of_requests,), 0)\n",
    "    status_cap_arv = np.full((number_of_requests,), 0)\n",
    "    \n",
    "\n",
    "    requests = np.stack((index, ts_dep, start_date_dep, num_of_weeks, date_seq_dep, origin_airport, destination_airport, fly_time, status_cap_dep), axis=1)\n",
    "\n",
    "    #Generate full info for the arv side:\n",
    "\n",
    "    ts_arv, start_date_arv, date_seq_arv = generate_info_arv(requests)\n",
    "\n",
    "    #pseudo_belong_dep = np.full((number_of_requests,), 0)\n",
    "    #pseudo_belong_arv = np.full((number_of_requests,), 0)\n",
    "    \n",
    "    # Define requests_full as dtype object\n",
    "    # requests_full = np.stack((index, ts_dep, start_date_dep, num_of_weeks, date_seq_dep, origin_airport, destination_airport, fly_time, status_cap_dep, ts_arv, start_date_arv, date_seq_arv, status_cap_arv), axis=1)\n",
    "    num_entries = len(index)  # Given that 'index' is defined using np.array(list(range(number_of_requests)))\n",
    "    # Create an empty array of the desired shape with dtype=object\n",
    "    requests_full = np.empty((num_entries, 13), dtype=object)\n",
    "    # Fill the array\n",
    "    data = [index, ts_dep, start_date_dep, num_of_weeks, date_seq_dep, origin_airport, destination_airport, fly_time, status_cap_dep, ts_arv, start_date_arv, date_seq_arv, status_cap_arv]\n",
    "    for i, column_data in enumerate(data):\n",
    "        requests_full[:, i] = column_data\n",
    "\n",
    "    # airport_req_dict: A dictionary where each key corresponds to a specific airport's requirements. \n",
    "    # The key format is 'req_i', where i is the index of the airport. \n",
    "    # The value for each key is a numpy array, with each row representing a request and the columns containing different attributes of that request.\n",
    "    airport_req_dict, _belong_airport_dict = get_airport_req_dict(requests_full, num_airports)\n",
    "\n",
    "    pot_dem_dict = get_initial_pot_dem_per_airport(airport_req_dict, num_airports)\n",
    "\n",
    "    cap_dem_dict = get_cap_dem_dict(num_airports, cap_dict, pot_dem_dict)\n",
    "\n",
    "    return requests_full, airport_req_dict, _belong_airport_dict, pot_dem_dict, cap_dem_dict\n",
    "\n",
    "    #Generate capacity:\n",
    "\n",
    "    #cap_arr = np.full((288, 182), 20)\n",
    "\n",
    "    #Create final_sched:\n",
    "\n",
    "    #final_sched_arr = req_arr.copy()\n",
    "\n",
    "    #Get potential demand: #Check again the function here (turn to array)\n",
    "    #pot_dem_arr = get_initial_pot_dem()\n",
    "\n",
    "    #Get remaining cap:\n",
    "    #cap_dem_arr = cap_arr - pot_dem_arr"
   ]
  },
  {
   "cell_type": "code",
   "execution_count": 8,
   "metadata": {},
   "outputs": [],
   "source": [
    "#  identify which requests from a set of airports violate a specific condition\n",
    "# For each airport (from 0 to num_airports - 1), the function checks a condition based on the status_cap_dep and status_cap_arv \n",
    "# of the associated numpy array. If the sum of these two columns is greater than or equal to 1 (mask), it means that capacity is exceeded.\n",
    "# For every airport that has violations, the function extracts the IDs of these violating requests.\n",
    "# The function accumulates these IDs in the violate_set list.\n",
    "\n",
    "def get_violate_id_set(airport_req_dict, num_airports):\n",
    "    violate_set = [] #(1: id, 2: airport, 3: dep, 4: arv)\n",
    "    for i in range(num_airports):\n",
    "        mask = ((airport_req_dict['req_{}'.format(i)][:, 8] + airport_req_dict['req_{}'.format(i)][:, 12]) >= 1)\n",
    "        _id_violate_per_airport = airport_req_dict['req_{}'.format(i)][mask, :][:,0]\n",
    "        violate_set.append(_id_violate_per_airport)\n",
    "    violate_set = np.concatenate(violate_set, axis=0)\n",
    "    violate_set = np.unique(violate_set)\n",
    "    return violate_set"
   ]
  },
  {
   "cell_type": "code",
   "execution_count": 9,
   "metadata": {},
   "outputs": [],
   "source": [
    "def get_violate_id_set_req_full(requests_full):\n",
    "    mask = ((requests_full[:, 8] + requests_full[:, 12]) >= 1)\n",
    "    violate_set_req_full = requests_full[mask, :][:,0]\n",
    "    return violate_set_req_full"
   ]
  },
  {
   "cell_type": "code",
   "execution_count": 10,
   "metadata": {},
   "outputs": [],
   "source": [
    "def get_req(violate_set, requests_full):\n",
    "    # if not violate_set:\n",
    "    #     raise ValueError(\"The provided violate_set is empty!\")\n",
    "    _violate_index = random.choice(violate_set)\n",
    "    chosen_req = requests_full[requests_full[:,0] == _violate_index]\n",
    "    return chosen_req"
   ]
  },
  {
   "cell_type": "code",
   "execution_count": 11,
   "metadata": {},
   "outputs": [],
   "source": [
    "def flatten_cap_dem_dict(cap_dem_dict, num_airports):\n",
    "    cap_dem_dict_flat = {}\n",
    "    for i in range(num_airports):\n",
    "        cap_dem_dict_flat['req_{}'.format(i)] = cap_dem_dict['req_{}'.format(i)].flatten()\n",
    "    return cap_dem_dict_flat"
   ]
  },
  {
   "cell_type": "code",
   "execution_count": 12,
   "metadata": {},
   "outputs": [],
   "source": [
    "#Get separated req per airport and store in a dict:\n",
    "\n",
    "def get_airport_req_dict(requests_full, num_airports):\n",
    "    airport_req_dict = {}\n",
    "    _belong_airport_dict = {}\n",
    "    for i in range(num_airports):\n",
    "        airport_req_dict['req_{}'.format(i)] = np.empty((0, 15)) #This one depends on the number of elements of a final request\n",
    "        _belong_airport_dict['req_{}'.format(i)] = np.full(num_airports, 0.0, dtype=float)\n",
    "        _belong_airport_dict['req_{}'.format(i)][i] = float(1.0)\n",
    "        _belong_airport_dict['req_{}'.format(i)] = _belong_airport_dict['req_{}'.format(i)].tolist()\n",
    "        \n",
    "    for i in range(len(requests_full)):\n",
    "        _found_dep = 0\n",
    "        _found_arv = 0\n",
    "        for k in range(num_airports):\n",
    "            #_found_dep = 0\n",
    "            #_found_arv = 0\n",
    "            if requests_full[i][5] == _belong_airport_dict['req_{}'.format(k)]:\n",
    "                _dep_req = np.append(requests_full[i], 1)\n",
    "                _dep_req = np.append(_dep_req, 0)\n",
    "                airport_req_dict['req_{}'.format(k)] = np.vstack((airport_req_dict['req_{}'.format(k)], _dep_req))\n",
    "                _found_dep = 1\n",
    "                #airport_req_dict['req_{}'.format(k)] = np.append(airport_req_dict['req_{}'.format(k)], 1)\n",
    "                #airport_req_dict['req_{}'.format(k)] = np.append(airport_req_dict['req_{}'.format(k)], 0)\n",
    "                #break\n",
    "            if requests_full[i][6] == _belong_airport_dict['req_{}'.format(k)]:\n",
    "                _arv_req = np.append(requests_full[i], 0)\n",
    "                _arv_req = np.append(_arv_req, 1)\n",
    "                airport_req_dict['req_{}'.format(k)] = np.vstack((airport_req_dict['req_{}'.format(k)], _arv_req))\n",
    "                _found_arv = 1\n",
    "                #airport_req_dict['req_{}'.format(k)] = np.append(airport_req_dict['req_{}'.format(k)], 0)\n",
    "                #airport_req_dict['req_{}'.format(k)] = np.append(airport_req_dict['req_{}'.format(k)], 1)\n",
    "                #break\n",
    "            if _found_dep + _found_arv == 2:\n",
    "                break\n",
    "        if _found_dep + _found_arv != 2:\n",
    "            print(\"Cannot found both dep and arv at req {}\".format(i))\n",
    "            \n",
    "    return airport_req_dict, _belong_airport_dict"
   ]
  },
  {
   "cell_type": "code",
   "execution_count": 13,
   "metadata": {},
   "outputs": [],
   "source": [
    "def generate_deterministic_capacity_dict(num_airports, cap_per_airport_arr): #This function is for a period of 182 days and 288 slots/ day\n",
    "    cap_dict = {}\n",
    "    for i in range(num_airports):\n",
    "        cap_dict['req_{}'.format(i)] = np.full((288, 182), cap_per_airport_arr[i])\n",
    "    return cap_dict"
   ]
  },
  {
   "cell_type": "code",
   "execution_count": 14,
   "metadata": {},
   "outputs": [],
   "source": [
    "def get_initial_pot_dem_per_airport(airport_req_dict, num_airports): #Replace req_df to req_df_update to update pot_dem_df #To be replaced with final_sched\n",
    "    pot_dem_dict = {}\n",
    "    #TODO: increase speed\n",
    "    #13 dep 14 arv, 1 dep ts, 9 arv ts\n",
    "    for i in range(num_airports):\n",
    "        pot_dem_dict['req_{}'.format(i)] = np.full((288, 182), 0)\n",
    "        for k in range(len(airport_req_dict['req_{}'.format(i)])):\n",
    "            _time_slot = int(airport_req_dict['req_{}'.format(i)][k][1]) * int(airport_req_dict['req_{}'.format(i)][k][13]) + int(airport_req_dict['req_{}'.format(i)][k][9]) * int(airport_req_dict['req_{}'.format(i)][k][14])\n",
    "            _date_seq = airport_req_dict['req_{}'.format(i)][k][4] * int(airport_req_dict['req_{}'.format(i)][k][13]) + airport_req_dict['req_{}'.format(i)][k][11] * int(airport_req_dict['req_{}'.format(i)][k][14])\n",
    "            pot_dem_dict['req_{}'.format(i)][_time_slot, _date_seq] += 1\n",
    "    return pot_dem_dict"
   ]
  },
  {
   "cell_type": "code",
   "execution_count": 15,
   "metadata": {},
   "outputs": [],
   "source": [
    "def get_cap_dem_dict(num_airports, cap_dict, pot_dem_dict):\n",
    "    cap_dem_dict = {}\n",
    "    for i in range(num_airports):\n",
    "        cap_dem_dict['req_{}'.format(i)] = cap_dict['req_{}'.format(i)] - pot_dem_dict['req_{}'.format(i)]\n",
    "    return cap_dem_dict"
   ]
  },
  {
   "cell_type": "code",
   "execution_count": 16,
   "metadata": {},
   "outputs": [],
   "source": [
    "def update_status_capacity(airport_req_dict, num_airports, cap_dem_dict, requests_full):\n",
    "    #Them cot cap_status o init:\n",
    "    not_violate_update = set()\n",
    "    violate_update = set()\n",
    "    for i in range(num_airports):\n",
    "        for k in range(len(airport_req_dict['req_{}'.format(i)])):\n",
    "            _time_slot = int(airport_req_dict['req_{}'.format(i)][k][1]) * int(airport_req_dict['req_{}'.format(i)][k][13]) + int(airport_req_dict['req_{}'.format(i)][k][9]) * int(airport_req_dict['req_{}'.format(i)][k][14])\n",
    "            _date_seq = airport_req_dict['req_{}'.format(i)][k][4] * int(airport_req_dict['req_{}'.format(i)][k][13]) + airport_req_dict['req_{}'.format(i)][k][11] * int(airport_req_dict['req_{}'.format(i)][k][14])\n",
    "            if all(x >= 0 for x in cap_dem_dict['req_{}'.format(i)][_time_slot, _date_seq]):\n",
    "                #print(self.cap_dem_arr[_time_slot, _date_seq])\n",
    "                if airport_req_dict['req_{}'.format(i)][k][8] == 1 or airport_req_dict['req_{}'.format(i)][k][12] == 1:\n",
    "                    not_violate_update.add(airport_req_dict['req_{}'.format(i)][k][0])\n",
    "                airport_req_dict['req_{}'.format(i)][k][8] = 0\n",
    "                airport_req_dict['req_{}'.format(i)][k][12] = 0\n",
    "            else:\n",
    "                if airport_req_dict['req_{}'.format(i)][k][13] == 1:\n",
    "                    if airport_req_dict['req_{}'.format(i)][k][8] == 0 and airport_req_dict['req_{}'.format(i)][k][12] == 0:\n",
    "                        violate_update.add(airport_req_dict['req_{}'.format(i)][k][0])\n",
    "                    airport_req_dict['req_{}'.format(i)][k][8] = 1\n",
    "                    _indices = np.where(requests_full[:, 0] == airport_req_dict['req_{}'.format(i)][k][0])\n",
    "                    requests_full[_indices, 8] = 1\n",
    "                else:\n",
    "                    if airport_req_dict['req_{}'.format(i)][k][8] == 0 and airport_req_dict['req_{}'.format(i)][k][12] == 0:\n",
    "                        violate_update.add(airport_req_dict['req_{}'.format(i)][k][0])\n",
    "                    airport_req_dict['req_{}'.format(i)][k][12] = 1\n",
    "                    _indices = np.where(requests_full[:, 0] == airport_req_dict['req_{}'.format(i)][k][0])\n",
    "                    requests_full[_indices, 12] = 1\n",
    "\n",
    "    return not_violate_update, violate_update"
   ]
  },
  {
   "cell_type": "markdown",
   "metadata": {},
   "source": [
    "SIMULATOR"
   ]
  },
  {
   "cell_type": "code",
   "execution_count": 17,
   "metadata": {},
   "outputs": [],
   "source": [
    "class AirportAgent(gym.Env):\n",
    "    def __init__(self, airport_id, num_airports, number_of_actions):\n",
    "        super(AirportAgent, self).__init__()\n",
    "\n",
    "        self.airport_id = airport_id\n",
    "        self.num_airports = num_airports\n",
    "        self.number_of_actions = number_of_actions\n",
    "        self.action_space = spaces.Discrete(self.number_of_actions)\n",
    "        self.rewards = []\n",
    "        self.state = one_hot_encode_airport(self.airport_id, self.num_airports)\n",
    "        # return self.state\n",
    "\n",
    "    def set(self):\n",
    "        return self.state\n",
    "    \n",
    "    def action_mapping(self, action, number_of_actions):\n",
    "        mid_point = (number_of_actions - 1) // 2\n",
    "        return action - mid_point\n",
    "    \n",
    "    def take_local_action(self):\n",
    "        num_actions = self.number_of_actions\n",
    "        action = self.action_space.sample() \n",
    "        # Convert the discrete action to your desired action value\n",
    "        real_action = self.action_mapping(action, num_actions)\n",
    "        return real_action\n",
    "    \n",
    "    def rewards_per_agent(self, reward):\n",
    "        self.rewards.append(reward)\n",
    "\n",
    "    def get_cumulative_reward_per_agent(self):\n",
    "        return sum(self.rewards)"
   ]
  },
  {
   "cell_type": "code",
   "execution_count": 18,
   "metadata": {},
   "outputs": [
    {
     "name": "stdout",
     "output_type": "stream",
     "text": [
      "Agent ID 0: Airport [1. 0. 0.]\n",
      "Agent ID 1: Airport [0. 1. 0.]\n",
      "Agent ID 2: Airport [0. 0. 1.]\n"
     ]
    }
   ],
   "source": [
    "# Creating agents for each airport:\n",
    "num_airports = 3\n",
    "number_of_actions = 5\n",
    "agents = [AirportAgent(i, num_airports, number_of_actions) for i in range(num_airports)]\n",
    "# Test\n",
    "for agent_id, agent in enumerate(agents):\n",
    "    print(f\"Agent ID {agent_id}: Airport {agent.set()}\")\n",
    "\n"
   ]
  },
  {
   "cell_type": "code",
   "execution_count": 19,
   "metadata": {},
   "outputs": [
    {
     "name": "stdout",
     "output_type": "stream",
     "text": [
      "Agent ID 0: Airport [1. 0. 0.], Action taken: -1\n",
      "Agent ID 1: Airport [0. 1. 0.], Action taken: 0\n",
      "Agent ID 2: Airport [0. 0. 1.], Action taken: 0\n"
     ]
    }
   ],
   "source": [
    "# Test\n",
    "for agent_id, agent in enumerate(agents):\n",
    "    print(f\"Agent ID {agent_id}: Airport {agent.set()}, Action taken: {agent.take_local_action()}\")"
   ]
  },
  {
   "cell_type": "code",
   "execution_count": 20,
   "metadata": {},
   "outputs": [],
   "source": [
    "class TwoAirportSchedEnv(gym.Env):\n",
    "    def __init__(self, number_of_actions, number_of_requests, num_airports, cap_per_airport_arr):\n",
    "        \n",
    "        super(TwoAirportSchedEnv, self).__init__()\n",
    "        self.number_of_actions = int(number_of_actions)\n",
    "        self.number_of_requests = number_of_requests\n",
    "        self.num_airports = num_airports\n",
    "        #self.number_of_days = number_of_days\n",
    "        self.cap_per_airport_arr = cap_per_airport_arr\n",
    "        self.cap_dict = generate_deterministic_capacity_dict(self.num_airports, self.cap_per_airport_arr)\n",
    "        #self.generate_scenario()\n",
    "        #update the code to add generate scenario \n",
    "        self.requests_full, self.airport_req_dict, self._belong_airport_dict, self.pot_dem_dict, self.cap_dem_dict = generate_scenario(number_of_requests, num_airports, cap_dict = self.cap_dict)\n",
    "        #to generate action:\n",
    "        self.action_space = spaces.Discrete(self.number_of_actions)\n",
    "        self.agents = self.initialize_agents()\n",
    "\n",
    "        #cap_dem_dict_flat = flatten_cap_dem_dict(cap_dem_dict, num_airports)\n",
    "        #_generate = True\n",
    "        update_status_capacity(self.airport_req_dict, self.num_airports, self.cap_dem_dict, self.requests_full)\n",
    "        #for i in range(len(self.requests_full)):\n",
    "        #  #print(self.requests_full[i][8], self.requests_full[i][12])\n",
    "        \n",
    "        _exceed_cap = 0         \n",
    "        while _exceed_cap == 0:\n",
    "            self.requests_full, self.airport_req_dict, self._belong_airport_dict, self.pot_dem_dict, self.cap_dem_dict = generate_scenario(number_of_requests = self.number_of_requests, num_airports = self.num_airports, cap_dict = self.cap_dict)\n",
    "            self.cap_dem_dict_flat = flatten_cap_dem_dict(self.cap_dem_dict, self.num_airports)\n",
    "            for i in range(num_airports):\n",
    "                _exceed_cap = _exceed_cap + (min(self.cap_dem_dict_flat['req_{}'.format(i)]))\n",
    "        \n",
    "\n",
    "        update_status_capacity(self.airport_req_dict, self.num_airports, self.cap_dem_dict, self.requests_full)\n",
    "        self.num_step = 0\n",
    "        \n",
    "        #self.chosen_req = random.choice(self.requests_full)\n",
    "        self.get_req()\n",
    "\n",
    "        self.dep_time_slot = self.chosen_req[1]\n",
    "\n",
    "    def initialize_agents(self):\n",
    "        # Create a dictionary of agents where key is the airport id and value is the agent object\n",
    "        agent_dict = {}\n",
    "        for airport_id in range(self.num_airports):  # assuming you have self.num_airports in TwoAirportSchedEnv\n",
    "            agent = AirportAgent(airport_id, self.num_airports, self.number_of_actions)\n",
    "            agent_dict[airport_id] = agent\n",
    "        return agent_dict\n",
    "    \n",
    "    def get_agent(self, airport_type):\n",
    "        # Check for airport type\n",
    "        if airport_type == \"departure\":\n",
    "            airport_index = self.chosen_req[5].index(1.0)\n",
    "        elif airport_type == \"arrival\":\n",
    "            airport_index = self.chosen_req[6].index(1.0)\n",
    "        else:\n",
    "            raise ValueError(f\"Invalid airport_type: {airport_type}. Expected 'departure' or 'arrival'.\")\n",
    "\n",
    "        agent = self.agents.get(airport_index)\n",
    "        return agent\n",
    "    \n",
    "    def action_mapping(self, action, number_of_actions):\n",
    "        mid_point = (number_of_actions - 1) // 2\n",
    "        return action - mid_point\n",
    "    \n",
    "    #added get request to know which is the request we are going to move at this step\",\n",
    "    def get_req(self):\n",
    "        violate_set=get_violate_id_set(self.airport_req_dict, num_airports)\n",
    "        _violate_index = random.choice(violate_set)\n",
    "        self.chosen_req = self.requests_full[self.requests_full[:,0] == _violate_index][0]\n",
    "    \n",
    "    #need to check arrival time or change the variable to check_outbound(arv) and chec_outbound(dep)\n",
    "    def check_outbound(self, action):\n",
    "        dep_time_slot = self.chosen_req[1]\n",
    "        arv_time_slot = self.chosen_req[9]\n",
    "        change_slot = action\n",
    "\n",
    "        outbound = False\n",
    "\n",
    "        new_dep_time_slot = dep_time_slot + change_slot\n",
    "        new_arv_time_slot = arv_time_slot + change_slot\n",
    "\n",
    "        if (new_dep_time_slot < 0) or (new_dep_time_slot > 287) or (new_arv_time_slot < 0) or (new_arv_time_slot > 287):\n",
    "            outbound = True\n",
    "\n",
    "        return outbound\n",
    "    \n",
    "    def dep_or_arv(self):\n",
    "        pass\n",
    "\n",
    "    def update_dem(self, dep_airport, arv_airport, time_slot_dep, time_slot_arv, new_time_slot_dep, new_time_slot_arv, date_seq_dep, date_seq_arv):\n",
    "        # Increment demand for the new time slot for both departure and arrival airports\n",
    "        self.pot_dem_dict['req_{}'.format(dep_airport)][new_time_slot_dep, date_seq_dep] += 1\n",
    "        self.pot_dem_dict['req_{}'.format(arv_airport)][new_time_slot_arv, date_seq_arv] += 1\n",
    "\n",
    "        # Decrease demand for the initial time slot for both departure and arrival airports\n",
    "        self.pot_dem_dict['req_{}'.format(dep_airport)][time_slot_dep, date_seq_dep] -= 1\n",
    "        self.pot_dem_dict['req_{}'.format(arv_airport)][time_slot_arv, date_seq_arv] -= 1\n",
    "\n",
    "    def update_cap_dem(self):\n",
    "        for airport in range(self.num_airports):\n",
    "            cap_key = 'req_{}'.format(airport)\n",
    "            dem_key = 'req_{}'.format(airport)\n",
    "            if cap_key not in self.cap_dict:\n",
    "                raise KeyError(f\"'{cap_key}' not found in cap_dict. Available keys: {list(self.cap_dict.keys())}\")\n",
    "            self.cap_dem_dict[cap_key] = self.cap_dict[cap_key] - self.pot_dem_dict[dem_key]\n",
    "\n",
    "    def update_violate_set(curr_violate, not_violate_update, violate_update):\n",
    "        curr_violate = set(curr_violate)\n",
    "        for req_index in not_violate_update:\n",
    "            curr_violate.remove(req_index)\n",
    "        for req_index in violate_update:\n",
    "            curr_violate.add(req_index) \n",
    "        curr_violate = list(curr_violate)\n",
    "        return curr_violate \n",
    "    \n",
    "    def step(self, action):\n",
    "        num_actions = self.number_of_actions\n",
    "        # Convert the discrete action to your desired action value\n",
    "        real_action = self.action_mapping(action, num_actions)\n",
    "\n",
    "        _index = self.chosen_req[0]\n",
    "        time_slot_dep = self.chosen_req[1]\n",
    "        time_slot_arv = self.chosen_req[9]\n",
    "        time_slot_arv = int(time_slot_arv)\n",
    "        change_slot = real_action\n",
    "        _dep_airport = self.chosen_req[5].index(1.0)\n",
    "        _arv_airport = self.chosen_req[6].index(1.0)\n",
    "        _date_seq_dep = self.chosen_req[4]\n",
    "        _date_seq_arv = self.chosen_req[11]\n",
    "        _start_date_dep = self.chosen_req[2]\n",
    "        _start_date_arv = self.chosen_req[10]\n",
    "        _num_weeks = self.chosen_req[3]\n",
    "        new_time_slot_dep = time_slot_dep + change_slot\n",
    "        new_time_slot_arv = time_slot_arv + change_slot\n",
    "        new_time_slot_arv = int(new_time_slot_arv)\n",
    "        new_date_seq_dep = _date_seq_dep\n",
    "        new_date_seq_arv = _date_seq_arv\n",
    "\n",
    "        outbound = self.check_outbound(real_action)\n",
    "\n",
    "        if not outbound:\n",
    "            pass\n",
    "            \n",
    "        elif outbound:\n",
    "            # Adjust the departure time slot as needed\n",
    "            if new_time_slot_dep < 0:\n",
    "                new_time_slot_dep = 287  # Move to the last time slot of the previous day\n",
    "                new_start_date_dep = _start_date_dep - 1\n",
    "                new_date_seq_dep = get_date_seq(new_start_date_dep, _num_weeks)\n",
    "            elif new_time_slot_dep > 287:\n",
    "                new_time_slot_dep = 0  # Move to the first time slot of the next day\n",
    "                new_start_date_dep = _start_date_dep + 1\n",
    "                new_date_seq_dep = get_date_seq(new_start_date_dep, _num_weeks)\n",
    "            # Adjust the departure time slot as needed\n",
    "            if new_time_slot_arv < 0:\n",
    "                # Assume that we only move by max one slot for a timeslot change\n",
    "                new_time_slot_arv = 287  # Move to the last time slot of the previous day\n",
    "                new_time_slot_arv = int(new_time_slot_arv)\n",
    "                new_start_date_arv = _start_date_arv - 1\n",
    "                new_date_seq_arv = get_date_seq(new_start_date_arv, _num_weeks)\n",
    "            elif new_time_slot_dep > 287:\n",
    "                # Assume that we only move by max one slot for a timeslot change\n",
    "                new_time_slot_dep = 0  # Move to the first time slot of the next day\n",
    "                new_time_slot_arv = int(new_time_slot_arv)\n",
    "                new_start_date_arv = _start_date_arv + 1\n",
    "                new_date_seq_arv = get_date_seq(new_start_date_arv, _num_weeks)\n",
    "\n",
    "        else:\n",
    "            print('Problem with check outbound!')\n",
    "            #update airport_req_dict\n",
    "            #update dem_dict all\n",
    "            #update cap_dem all\n",
    "            #update status all\n",
    "            \n",
    "        # Update the request for both departure and arrival time slots and dates\n",
    "        self.requests_full[self.requests_full[:, 0] == _index][:, 1] = new_time_slot_dep\n",
    "        self.requests_full[self.requests_full[:, 0] == _index][:, 9] = new_time_slot_arv\n",
    "        # self.requests_full[self.requests_full[:, 0] == _index][:, 4] = new_date_seq_dep\n",
    "        # self.requests_full[self.requests_full[:, 0] == _index][:, 11] = new_date_seq_arv\n",
    "        _index_matching = np.where(self.requests_full[:, 0] == _index)[0][0]\n",
    "        self.requests_full[_index_matching, 4] = new_date_seq_dep\n",
    "        self.requests_full[_index_matching, 11] = new_date_seq_arv\n",
    "\n",
    "        # Update chosen_req\n",
    "\n",
    "\n",
    "\n",
    "        # Update the airport request dict\n",
    "        self.airport_req_dict['req_{}'.format(_dep_airport)][self.airport_req_dict['req_{}'.format(_dep_airport)][:, 0] == _index][:, 1] = new_time_slot_dep\n",
    "        self.airport_req_dict['req_{}'.format(_dep_airport)][self.airport_req_dict['req_{}'.format(_dep_airport)][:, 0] == _index][:, 9] = new_time_slot_dep\n",
    "        self.airport_req_dict['req_{}'.format(_arv_airport)][self.airport_req_dict['req_{}'.format(_arv_airport)][:, 0] == _index][:, 1] = new_time_slot_arv\n",
    "        self.airport_req_dict['req_{}'.format(_arv_airport)][self.airport_req_dict['req_{}'.format(_arv_airport)][:, 0] == _index][:, 9] = new_time_slot_arv\n",
    "\n",
    "        # Update demand for the new time slots\n",
    "        self.update_dem(_dep_airport, _arv_airport, time_slot_dep, time_slot_arv, new_time_slot_dep, new_time_slot_arv, new_date_seq_dep, new_date_seq_arv)\n",
    "        \n",
    "        # Update cap_dem \n",
    "        self.update_cap_dem()\n",
    "\n",
    "        # Update status capacity after the cap_dem table is updated\n",
    "        update_status_capacity(self.airport_req_dict, self.num_airports, self.cap_dem_dict, self.requests_full)\n",
    "\n",
    "        # Reward part:\n",
    "        local_reward = 0\n",
    "        if outbound:\n",
    "            local_reward = -1\n",
    "        else:\n",
    "            local_reward = 0.1*(-abs(change_slot)*0.5*_num_weeks) #TODO change if increase number of actions\n",
    "        \n",
    "        self.num_step += 1\n",
    "        done = False\n",
    "        if self.chosen_req[8] == 0 and self.chosen_req[12] == 0:\n",
    "            done = True\n",
    "            obs = np.zeros((self.number_of_actions + 1,))\n",
    "            global_reward = 100\n",
    "\n",
    "        elif self.num_step == self.number_of_requests*5:\n",
    "            done = True\n",
    "            obs = np.zeros((self.number_of_actions + 1,))\n",
    "            negative_sum = 500\n",
    "            for value in self.cap_dem_dict.values():\n",
    "                # Assuming each value is a numeric value or a numpy array\n",
    "                # If it's a numpy array, you can sum all negative values directly using numpy\n",
    "                if isinstance(value, np.ndarray):\n",
    "                    negative_sum += np.sum(value[value < 0])\n",
    "                else:\n",
    "                    # If it's a single numeric value, just check if it's negative\n",
    "                    if value < 0:\n",
    "                        negative_sum += value\n",
    "            global_reward = negative_sum*10\n",
    "\n",
    "        else:\n",
    "            global_reward = 0\n",
    "            #obs = self._next_observation()\n",
    "            obs = np.zeros((self.number_of_actions + 1,))\n",
    "\n",
    "        reward_time_step = -0.5\n",
    "            \n",
    "        total_reward = float(local_reward + global_reward + reward_time_step)\n",
    "    \n",
    "        return obs, total_reward, done, {}\n",
    "\n",
    "    def take_action(self):\n",
    "\n",
    "        # Use it like this:\n",
    "        # env = TwoAirportSchedEnv(...)\n",
    "        # env.take_action()\n",
    "        # Step 1: Randomly choose actions\n",
    "        action_dep = self.action_space.sample()  # For the departure airport\n",
    "        action_arv = self.action_space.sample()  # For the arrival airport\n",
    "\n",
    "        #Step 2: Check if actions match\n",
    "        # matched_action = None\n",
    "        while action_dep != action_arv:\n",
    "          action_dep = self.action_space.sample() \n",
    "          action_arv = self.action_space.sample()\n",
    "\n",
    "        return action_dep\n",
    "    \n",
    "    def _next_observation(self):\n",
    "        self.get_req()\n",
    "        _ts_dep = self.chosen_req[1]\n",
    "        _ts_arv = self.chosen_req[9]\n",
    "        _num_of_weeks = self.chosen_req[3]\n",
    "        _date_seq_dep = self.chosen_req[4]\n",
    "        _date_seq_arv = self.chosen_req[11]\n",
    "        _dep_airport = self.chosen_req[5].index(1.0)\n",
    "        _arv_airport = self.chosen_req[6].index(1.0)\n",
    "        cap_dem_arr_dep = self.cap_dem_dict['req_{}'.format(_dep_airport)]\n",
    "        cap_dem_arr_arv = self.cap_dem_dict['req_{}'.format(_arv_airport)]\n",
    "        _cap_dem_dep = cap_dem_arr_dep[:, _date_seq_dep].copy()\n",
    "        _cap_dem_arv = cap_dem_arr_arv[:, _date_seq_arv].copy()\n",
    "\n",
    "        _obs_min_arr_dep = full_obs(_cap_dem_dep, self.number_of_actions)\n",
    "        _obs_min_arr_arr = full_obs(_cap_dem_arv, self.number_of_actions)\n",
    "        _obs_time_slot_related_dep = list(range(int(_ts_dep), int(_ts_dep + self.number_of_actions), 1))\n",
    "        _obs_time_slot_related_arv = list(range(int(_ts_arv), int(_ts_arv + self.number_of_actions), 1))\n",
    "        _cap_dem_obs_dep = _obs_min_arr_dep[_obs_time_slot_related_dep]\n",
    "        _cap_dem_obs_arv = _obs_min_arr_arr[_obs_time_slot_related_arv]\n",
    "\n",
    "        # Appending _cap_dem_obs_arv to _cap_dem_obs_dep\n",
    "        self.obs = np.append(_cap_dem_obs_dep, _cap_dem_obs_arv)\n",
    "        # append _num_of_weeks to the result of the above, do the following:\n",
    "        self.obs = np.append(self.obs, _num_of_weeks)\n",
    "        \n",
    "        return self.obs\n"
   ]
  },
  {
   "cell_type": "markdown",
   "metadata": {},
   "source": [
    "TESTS"
   ]
  },
  {
   "cell_type": "code",
   "execution_count": 21,
   "metadata": {},
   "outputs": [],
   "source": [
    "TwoAirportSchedEnv = TwoAirportSchedEnv(number_of_actions=3, number_of_requests=15000, num_airports=3, cap_per_airport_arr= [9,9,9])"
   ]
  },
  {
   "cell_type": "code",
   "execution_count": 22,
   "metadata": {},
   "outputs": [],
   "source": [
    "requests_full = TwoAirportSchedEnv.requests_full\n",
    "airport_req_dict = TwoAirportSchedEnv.airport_req_dict\n",
    "_belong_airport_dict = TwoAirportSchedEnv._belong_airport_dict\n",
    "pot_dem_dict = TwoAirportSchedEnv.pot_dem_dict"
   ]
  },
  {
   "cell_type": "code",
   "execution_count": 23,
   "metadata": {},
   "outputs": [],
   "source": [
    "cap_dict = TwoAirportSchedEnv.cap_dict"
   ]
  },
  {
   "cell_type": "code",
   "execution_count": 24,
   "metadata": {},
   "outputs": [
    {
     "data": {
      "text/plain": [
       "{'req_0': array([[9, 9, 9, ..., 9, 9, 9],\n",
       "        [9, 9, 9, ..., 9, 9, 9],\n",
       "        [9, 9, 9, ..., 9, 9, 9],\n",
       "        ...,\n",
       "        [9, 9, 9, ..., 9, 9, 9],\n",
       "        [9, 9, 9, ..., 9, 9, 9],\n",
       "        [9, 9, 9, ..., 9, 9, 9]]),\n",
       " 'req_1': array([[9, 9, 9, ..., 9, 9, 9],\n",
       "        [9, 9, 9, ..., 9, 9, 9],\n",
       "        [9, 9, 9, ..., 9, 9, 9],\n",
       "        ...,\n",
       "        [9, 9, 9, ..., 9, 9, 9],\n",
       "        [9, 9, 9, ..., 9, 9, 9],\n",
       "        [9, 9, 9, ..., 9, 9, 9]]),\n",
       " 'req_2': array([[9, 9, 9, ..., 9, 9, 9],\n",
       "        [9, 9, 9, ..., 9, 9, 9],\n",
       "        [9, 9, 9, ..., 9, 9, 9],\n",
       "        ...,\n",
       "        [9, 9, 9, ..., 9, 9, 9],\n",
       "        [9, 9, 9, ..., 9, 9, 9],\n",
       "        [9, 9, 9, ..., 9, 9, 9]])}"
      ]
     },
     "execution_count": 24,
     "metadata": {},
     "output_type": "execute_result"
    }
   ],
   "source": [
    "cap_dem_dict = get_cap_dem_dict(3, cap_dict, pot_dem_dict)\n",
    "cap_dem_dict"
   ]
  },
  {
   "cell_type": "code",
   "execution_count": 25,
   "metadata": {},
   "outputs": [
    {
     "data": {
      "text/plain": [
       "{'req_0': [1.0, 0.0, 0.0], 'req_1': [0.0, 1.0, 0.0], 'req_2': [0.0, 0.0, 1.0]}"
      ]
     },
     "execution_count": 25,
     "metadata": {},
     "output_type": "execute_result"
    }
   ],
   "source": [
    "_belong_airport_dict"
   ]
  },
  {
   "cell_type": "code",
   "execution_count": 26,
   "metadata": {},
   "outputs": [
    {
     "name": "stdout",
     "output_type": "stream",
     "text": [
      "[1.0, 0.0, 0.0]\n"
     ]
    }
   ],
   "source": [
    "# _dep_belong = chosen_req[:,5][0]\n",
    "# _dep_belong\n",
    "\n",
    "# Accessing chosen_req from the environment\n",
    "chosen_req = TwoAirportSchedEnv.chosen_req\n",
    "\n",
    "# Assuming chosen_req is a 1D array or list, accessing the element at index 5\n",
    "_dep_belong = chosen_req[5]\n",
    "print(_dep_belong)"
   ]
  },
  {
   "cell_type": "code",
   "execution_count": 27,
   "metadata": {},
   "outputs": [],
   "source": [
    "def getKey(dct,value):\n",
    "     return [key for key in dct if (dct[key] == value)]"
   ]
  },
  {
   "cell_type": "code",
   "execution_count": 28,
   "metadata": {},
   "outputs": [
    {
     "data": {
      "text/plain": [
       "['req_0']"
      ]
     },
     "execution_count": 28,
     "metadata": {},
     "output_type": "execute_result"
    }
   ],
   "source": [
    "dep_key = getKey(_belong_airport_dict, _dep_belong)\n",
    "dep_key"
   ]
  },
  {
   "cell_type": "code",
   "execution_count": 29,
   "metadata": {},
   "outputs": [
    {
     "name": "stdout",
     "output_type": "stream",
     "text": [
      "[215, 216, 217, 218]\n"
     ]
    }
   ],
   "source": [
    "# _obs_time_slot_related = list(range(_dep_time_slot[0] - 2, _dep_time_slot[0] + 2, 1)) #5 is number of actions\n",
    "# _obs_time_slot_related\n",
    "\n",
    "# Assuming you have your environment defined as 'env'\n",
    "# Fetching _dep_time_slot from the environment\n",
    "_dep_time_slot = TwoAirportSchedEnv.dep_time_slot\n",
    "\n",
    "# Using _dep_time_slot to get _obs_time_slot_related\n",
    "_obs_time_slot_related = list(range(_dep_time_slot - 2, _dep_time_slot + 2, 1))\n",
    "print(_obs_time_slot_related)"
   ]
  },
  {
   "cell_type": "code",
   "execution_count": 30,
   "metadata": {},
   "outputs": [
    {
     "data": {
      "text/plain": [
       "[111, 118, 125, 132, 139, 146, 153, 160, 167]"
      ]
     },
     "execution_count": 30,
     "metadata": {},
     "output_type": "execute_result"
    }
   ],
   "source": [
    "_dep_date_seq = chosen_req[4]\n",
    "_dep_date_seq"
   ]
  },
  {
   "cell_type": "code",
   "execution_count": 31,
   "metadata": {},
   "outputs": [],
   "source": [
    "#Havent modified\n",
    "def full_obs(_cap_dem_chosen_req, number_of_actions):\n",
    "    _obs_min_arr = np.full((288+number_of_actions-1, ), 0)\n",
    "    for i in range(len(_cap_dem_chosen_req)):\n",
    "        _obs_min_arr[i+int((number_of_actions-1)/2)] = min(_cap_dem_chosen_req[i])\n",
    "    return _obs_min_arr"
   ]
  },
  {
   "cell_type": "code",
   "execution_count": 32,
   "metadata": {},
   "outputs": [],
   "source": [
    "violate_id = get_violate_id_set(airport_req_dict, 3)"
   ]
  },
  {
   "cell_type": "code",
   "execution_count": 33,
   "metadata": {},
   "outputs": [],
   "source": [
    "violate_req = get_violate_id_set_req_full(requests_full)"
   ]
  },
  {
   "cell_type": "code",
   "execution_count": 34,
   "metadata": {},
   "outputs": [
    {
     "data": {
      "text/plain": [
       "8810"
      ]
     },
     "execution_count": 34,
     "metadata": {},
     "output_type": "execute_result"
    }
   ],
   "source": [
    "len(violate_id)"
   ]
  },
  {
   "cell_type": "code",
   "execution_count": 35,
   "metadata": {},
   "outputs": [
    {
     "data": {
      "text/plain": [
       "8810"
      ]
     },
     "execution_count": 35,
     "metadata": {},
     "output_type": "execute_result"
    }
   ],
   "source": [
    "len(violate_req)"
   ]
  },
  {
   "cell_type": "code",
   "execution_count": 36,
   "metadata": {},
   "outputs": [
    {
     "data": {
      "text/plain": [
       "array([1, 2, 3, ..., 14997, 14998, 14999], dtype=object)"
      ]
     },
     "execution_count": 36,
     "metadata": {},
     "output_type": "execute_result"
    }
   ],
   "source": [
    "violate_id"
   ]
  },
  {
   "cell_type": "code",
   "execution_count": 37,
   "metadata": {},
   "outputs": [
    {
     "data": {
      "text/plain": [
       "array([1, 2, 3, ..., 14997, 14998, 14999], dtype=object)"
      ]
     },
     "execution_count": 37,
     "metadata": {},
     "output_type": "execute_result"
    }
   ],
   "source": [
    "violate_req"
   ]
  },
  {
   "cell_type": "code",
   "execution_count": 38,
   "metadata": {},
   "outputs": [
    {
     "data": {
      "text/plain": [
       "15000"
      ]
     },
     "execution_count": 38,
     "metadata": {},
     "output_type": "execute_result"
    }
   ],
   "source": [
    "#Check if airport req dict generated correctly:\n",
    "a = TwoAirportSchedEnv.airport_req_dict['req_0'][:,0]\n",
    "b = TwoAirportSchedEnv.airport_req_dict['req_1'][:,0]\n",
    "c = TwoAirportSchedEnv.airport_req_dict['req_2'][:,0]\n",
    "ab = np.intersect1d(a,b)\n",
    "bc = np.intersect1d(b,c)\n",
    "ca = np.intersect1d(c,a)\n",
    "len(a) + len(b) + len(c) - len(ab) - len(bc) - len(ca)"
   ]
  },
  {
   "cell_type": "code",
   "execution_count": 39,
   "metadata": {},
   "outputs": [],
   "source": [
    "def get_req(violate_set, requests_full): \n",
    "    _violate_index = random.choice(violate_set)\n",
    "    chosen_req = requests_full[requests_full[:,0] == _violate_index]\n",
    "    return chosen_req"
   ]
  },
  {
   "cell_type": "code",
   "execution_count": 40,
   "metadata": {},
   "outputs": [],
   "source": [
    "def check_random_n_violate_req(n, violate_set, requests_full): #violate_set <- violate_id or violate_req\n",
    "    for i in range(n):\n",
    "        _chosen_req = get_req(violate_set, requests_full)\n",
    "        if _chosen_req[:,8] + _chosen_req[:,12] == 0:\n",
    "            print('There is error at req {}'.format(_chosen_req))\n",
    "    print('Check {} violated reqs done!'.format(n))"
   ]
  },
  {
   "cell_type": "code",
   "execution_count": 41,
   "metadata": {},
   "outputs": [],
   "source": [
    "violate_set = get_violate_id_set(TwoAirportSchedEnv.airport_req_dict, TwoAirportSchedEnv.num_airports)"
   ]
  },
  {
   "cell_type": "code",
   "execution_count": 42,
   "metadata": {},
   "outputs": [
    {
     "name": "stdout",
     "output_type": "stream",
     "text": [
      "Check 100 violated reqs done!\n"
     ]
    }
   ],
   "source": [
    "check_random_n_violate_req(100, violate_set, requests_full)"
   ]
  },
  {
   "cell_type": "code",
   "execution_count": 43,
   "metadata": {},
   "outputs": [],
   "source": [
    "# def check_violate_set(violate_set, airport_req_dict, ): #TODO\n",
    "#     pass"
   ]
  },
  {
   "cell_type": "code",
   "execution_count": 44,
   "metadata": {},
   "outputs": [],
   "source": [
    "# check_request(TwoAirportSchedEnv.requests_full, TwoAirportSchedEnv.airport_req_dict, TwoAirportSchedEnv._belong_airport_dict, TwoAirportSchedEnv.num_airports, TwoAirportSchedEnv.pot_dem_dict)"
   ]
  },
  {
   "cell_type": "code",
   "execution_count": 45,
   "metadata": {},
   "outputs": [],
   "source": [
    "# def check_union_req_per_airport(airport_req_dict, num_airports, num_requests):\n",
    "#     pass\n",
    "# #Written above, hasnt writtern in terms of function "
   ]
  },
  {
   "cell_type": "code",
   "execution_count": 46,
   "metadata": {},
   "outputs": [],
   "source": [
    "def check_pot_dem_dict(airport_req_dict, num_airports, pot_dem_dict):\n",
    "    for i in range(num_airports):\n",
    "        if sum(airport_req_dict['req_{}'.format(i)][:,3]) == sum(sum(pot_dem_dict['req_{}'.format(i)])):\n",
    "            print('req {} checked. No issue!'.format(i))\n",
    "        else:\n",
    "            print('req {} has problem!'. format(i))"
   ]
  },
  {
   "cell_type": "code",
   "execution_count": 47,
   "metadata": {},
   "outputs": [],
   "source": [
    "#Functions to check the generated scenarios:\n",
    "\n",
    "def check_exceed_period(requests_full):\n",
    "    for i in range(len(requests_full)):\n",
    "        if max(requests_full[i][4]) >= 182:\n",
    "            print('Exceed period departure at request {}'.format(i))\n",
    "        if max(requests_full[i][11]) >= 182:\n",
    "            print('Exceed period arrival at request {}'.format(i))\n",
    "    print('Check exceed period done!')\n",
    "\n",
    "    \n",
    "def check_if_same_org_dest(requests):\n",
    "    for i in range(len(requests)):\n",
    "        if requests[i][5] == requests[i][6]:\n",
    "            print('Problem at {}'.format(i))\n",
    "#         else:\n",
    "#             print(i, 'Checked')\n",
    "    print('Check if any same origin and destination done!')\n",
    "    \n",
    "    \n",
    "def check_correspond_time_slot(requests):\n",
    "    for i in range(len(requests)):\n",
    "        if requests[i][1] + requests[i][7]/5 > 287:\n",
    "            #print(i, '1')\n",
    "            _ts_arv = (requests[i][1] + requests[i][7]/5) - 287\n",
    "            if requests[i][9] != _ts_arv:\n",
    "                print(\"Not corresponding time slot at request {}\".format(i))\n",
    "        else:\n",
    "            #print(i, '2')\n",
    "            if requests[i][9] != requests[i][1] + requests[i][7]/5:\n",
    "                print(\"Not corresponding time slot at request {}\".format(i))\n",
    "    print('Check corresponding time slot done!')\n",
    "    \n",
    "    \n",
    "def check_correspond_date(requests):\n",
    "    for i in range(len(requests)):\n",
    "        if requests[i][1] + requests[i][7]/5 > 287:\n",
    "            #print(i, '1')\n",
    "            _start_date_arv = requests[i][2] + 1\n",
    "            if requests[i][10] != _start_date_arv:\n",
    "                print(\"Not corresponding start date at request {}\".format(i))\n",
    "        else:\n",
    "            #print(i, '2')\n",
    "            if requests[i][10] != requests[i][2]:\n",
    "                print(\"Not corresponding start date at request {}\".format(i))\n",
    "    print(\"Check start date done!\")\n",
    "    \n",
    "    \n",
    "def check_date_seq(requests):\n",
    "    for i in range(len(requests)):\n",
    "        if requests[i][1] + requests[i][7]/5 > 287:\n",
    "            #print(i, '1')\n",
    "            _date_seq_arv = [x+1 for x in requests[i][4]]\n",
    "            if requests[i][11] != _date_seq_arv:\n",
    "                print('Not corresponding date seq at request {}'.format(i))\n",
    "        else:\n",
    "            #print(i, '2')\n",
    "            if requests[i][11] != requests[i][4]:\n",
    "                print('Not corresponding date seq at request {}'.format(i)) \n",
    "    print('Check date seq done!')\n",
    "    \n",
    "    \n",
    "def check_duplication_each_req_airport(airport_req_dict, num_airports):\n",
    "    for i in range(num_airports):\n",
    "        if len(airport_req_dict['req_{}'.format(i)]) != len(list(set(airport_req_dict['req_{}'.format(i)][:,0]))):\n",
    "            print('Duplication at airport {}'.format(i))\n",
    "    print('Check duplication per airport req done!')\n",
    "    \n",
    "    \n",
    "def check_correct_dep_arv_binary_values(airport_req_dict, _belong_airport_dict, num_airports):\n",
    "    for i in range(num_airports):\n",
    "        for k in range(len(airport_req_dict['req_{}'.format(i)])):\n",
    "            if airport_req_dict['req_{}'.format(i)][k][5] == _belong_airport_dict['req_{}'.format(i)] and airport_req_dict['req_{}'.format(i)][k][13] != 1:\n",
    "                print('Not correct dep at airport {} and req {}!'.format(i, k))\n",
    "            if airport_req_dict['req_{}'.format(i)][k][6] == _belong_airport_dict['req_{}'.format(i)] and airport_req_dict['req_{}'.format(i)][k][14] != 1:\n",
    "                print('Not correct arv at airport {} and req {}!'.format(i, k))\n",
    "            if airport_req_dict['req_{}'.format(i)][k][5] != _belong_airport_dict['req_{}'.format(i)] and airport_req_dict['req_{}'.format(i)][k][6] != _belong_airport_dict['req_{}'.format(i)]:\n",
    "                print('Req {} not belong to airport {}'.format(k, i))\n",
    "                print('====')\n",
    "                print(airport_req_dict['req_{}'.format(i)][k][5], airport_req_dict['req_{}'.format(i)][k][6], _belong_airport_dict['req_{}'.format(i)])\n",
    "            if airport_req_dict['req_{}'.format(i)][k][13] + airport_req_dict['req_{}'.format(i)][k][14] != 1:\n",
    "                print('Not unique in dep and arv status at airport {} and req {}!'.format(i, k))\n",
    "    print('Check dep and arv status done!')\n",
    "    \n",
    "\n",
    "def check_pot_dem_dict(airport_req_dict, num_airports, pot_dem_dict):\n",
    "    for i in range(num_airports):\n",
    "        if sum(airport_req_dict['req_{}'.format(i)][:,3]) == sum(sum(pot_dem_dict['req_{}'.format(i)])):\n",
    "            print('req {} checked. No issue!'.format(i))\n",
    "        else:\n",
    "            print('req {} has problem!'. format(i))\n",
    "\n",
    "# Test update_dem\n",
    "def check_update_dem():\n",
    "    # Mock the pot_dem_dict to control our test case\n",
    "    TwoAirportSchedEnv.pot_dem_dict = {\n",
    "        'req_0': np.zeros((288, 7)),  # assuming 288 time slots and 7 dates\n",
    "        'req_1': np.zeros((288, 7)),\n",
    "        'req_2': np.zeros((288, 7))\n",
    "    }\n",
    "    dep_airport = 1  # choosing different values this time to test the functionality\n",
    "    arv_airport = 2\n",
    "    time_slot_dep = 60  # arbitrary time slot for the test\n",
    "    time_slot_arv = 120\n",
    "    new_time_slot_dep = 65\n",
    "    new_time_slot_arv = 125\n",
    "    date_seq_dep = 2\n",
    "    date_seq_arv = 5\n",
    "    # Increase demand for initial time slots for departure and arrival to mock a pre-existing request\n",
    "    TwoAirportSchedEnv.pot_dem_dict['req_{}'.format(dep_airport)][time_slot_dep, date_seq_dep] = 1\n",
    "    TwoAirportSchedEnv.pot_dem_dict['req_{}'.format(arv_airport)][time_slot_arv, date_seq_arv] = 1\n",
    "\n",
    "    # Print pot_dem_dict before update\n",
    "    # print(\"Before update:\")\n",
    "    # for k, v in TwoAirportSchedEnv.pot_dem_dict.items():\n",
    "    #     print(f\"{k}: {v}\")\n",
    "        \n",
    "    # Call the function under test\n",
    "    TwoAirportSchedEnv.update_dem(dep_airport, arv_airport, time_slot_dep, time_slot_arv, new_time_slot_dep, new_time_slot_arv, date_seq_dep, date_seq_arv)\n",
    "\n",
    "    # Print pot_dem_dict after update\n",
    "    # print(\"\\nAfter update:\")\n",
    "    # for k, v in TwoAirportSchedEnv.pot_dem_dict.items():\n",
    "    #     print(f\"{k}: {v}\")\n",
    "\n",
    "    # Assertions\n",
    "    # Check if demand for the initial time slots is decreased\n",
    "    assert TwoAirportSchedEnv.pot_dem_dict['req_{}'.format(dep_airport)][time_slot_dep, date_seq_dep] == 0\n",
    "    assert TwoAirportSchedEnv.pot_dem_dict['req_{}'.format(arv_airport)][time_slot_arv, date_seq_arv] == 0\n",
    "    # Check if demand for the new time slots is increased\n",
    "    assert TwoAirportSchedEnv.pot_dem_dict['req_{}'.format(dep_airport)][new_time_slot_dep, date_seq_dep] == 1\n",
    "    assert TwoAirportSchedEnv.pot_dem_dict['req_{}'.format(arv_airport)][new_time_slot_arv, date_seq_arv] == 1\n",
    "    print(\"Update dem Test passed!\")\n",
    "\n",
    "def test_check_outbound():\n",
    "    # Manually set the `chosen_req`\n",
    "    TwoAirportSchedEnv.chosen_req[1] = 1\n",
    "    # Call check_outbound and verify\n",
    "    # Test case where the change_slot does not make it go outbound\n",
    "    action = 0\n",
    "    assert TwoAirportSchedEnv.check_outbound(action) == False, \"Expected no outbound for no action\"\n",
    "    # Test case where the change_slot makes it go outbound on the lower side\n",
    "    action = -2\n",
    "    assert TwoAirportSchedEnv.check_outbound(action) == True, \"Expected outbound for a minus 2 shift from the 1st time slot\"\n",
    "    # Test case where the change_slot makes it go outbound on the upper side\n",
    "    TwoAirportSchedEnv.chosen_req[1] = 286\n",
    "    action = 2\n",
    "    assert TwoAirportSchedEnv.check_outbound(action) == True, \"Expected outbound for a plus 2 shift from the 286th time slot\"\n",
    "    print(\"All check_outbound tests passed!\")\n",
    "\n",
    "def test_action_mapping():\n",
    "    # The middle value for a 5 action space should give a 0 change\n",
    "    assert TwoAirportSchedEnv.action_mapping(2, 5) == 0, \"Expected 0, but got {}\".format(TwoAirportSchedEnv.action_mapping(2, 5))\n",
    "    \n",
    "    # Testing the boundary values\n",
    "    assert TwoAirportSchedEnv.action_mapping(0, 5) == -2, \"Expected -2, but got {}\".format(TwoAirportSchedEnv.action_mapping(0, 5))\n",
    "    assert TwoAirportSchedEnv.action_mapping(4, 5) == 2, \"Expected 2, but got {}\".format(TwoAirportSchedEnv.action_mapping(4, 5))\n",
    "    \n",
    "    print(\"All tests passed for action_mapping!\")\n",
    "\n",
    "def check_get_agent():\n",
    "    # Get the agents\n",
    "    departure_agent = TwoAirportSchedEnv.get_agent(\"departure\")\n",
    "    arrival_agent = TwoAirportSchedEnv.get_agent(\"arrival\")\n",
    "\n",
    "    # Print to verify\n",
    "    print(\"Departure Airport ID:\", departure_agent.airport_id)\n",
    "    print(\"Arrival Airport ID:\", arrival_agent.airport_id)\n",
    "\n",
    "    # Verifying the correctness\n",
    "    expected_departure_id = TwoAirportSchedEnv.chosen_req[5].index(1.0)\n",
    "    expected_arrival_id = TwoAirportSchedEnv.chosen_req[6].index(1.0)\n",
    "\n",
    "    assert departure_agent.airport_id == expected_departure_id, f\"Expected {expected_departure_id}, but got {departure_agent.airport_id}\"\n",
    "    assert arrival_agent.airport_id == expected_arrival_id, f\"Expected {expected_arrival_id}, but got {arrival_agent.airport_id}\"\n",
    "\n",
    "    print(\"get agent test passed\")\n",
    "\n",
    "def test_next_observation():\n",
    "    # Call the _next_observation function for that instance.\n",
    "    obs = TwoAirportSchedEnv._next_observation()\n",
    "    \n",
    "    # Check the length of self.obs to ensure it's 7 elements.\n",
    "    assert len(obs) == 7, f\"Expected length of obs to be 7, but got {len(obs)}\"\n",
    "    \n",
    "    # Check that the 7th index of self.obs is _num_of_weeks.\n",
    "    _num_of_weeks = TwoAirportSchedEnv.chosen_req[3]\n",
    "    assert obs[6] == _num_of_weeks, f\"Expected obs[6] to be {_num_of_weeks}, but got {obs[6]}\"\n",
    "    \n",
    "    print(\"next_observation tests passed!\")\n",
    "\n",
    "#==================================================================================\n",
    "    \n",
    "def check_request(requests_full, airport_req_dict, _belong_airport_dict, num_airports, pot_dem_dict):\n",
    "    check_if_same_org_dest(requests_full)\n",
    "    check_correspond_time_slot(requests_full)\n",
    "    check_correspond_date(requests_full)\n",
    "    check_date_seq(requests_full)\n",
    "    check_exceed_period(requests_full)\n",
    "\n",
    "    #add the unit test\n",
    "    \n",
    "    check_duplication_each_req_airport(airport_req_dict, num_airports)\n",
    "    check_correct_dep_arv_binary_values(airport_req_dict, _belong_airport_dict, num_airports)\n",
    "    check_pot_dem_dict(airport_req_dict, num_airports, pot_dem_dict)\n",
    "    check_update_dem()\n",
    "    test_check_outbound()\n",
    "    test_action_mapping()\n",
    "    check_get_agent()\n",
    "    test_next_observation()"
   ]
  },
  {
   "cell_type": "code",
   "execution_count": 48,
   "metadata": {},
   "outputs": [
    {
     "name": "stdout",
     "output_type": "stream",
     "text": [
      "Check if any same origin and destination done!\n",
      "Check corresponding time slot done!\n",
      "Check start date done!\n",
      "Check date seq done!\n",
      "Check exceed period done!\n",
      "Check duplication per airport req done!\n",
      "Check dep and arv status done!\n",
      "req 0 checked. No issue!\n",
      "req 1 checked. No issue!\n",
      "req 2 checked. No issue!\n",
      "Update dem Test passed!\n",
      "All check_outbound tests passed!\n",
      "All tests passed for action_mapping!\n",
      "Departure Airport ID: 0\n",
      "Arrival Airport ID: 2\n",
      "get agent test passed\n",
      "next_observation tests passed!\n",
      "0:=======================================\n",
      "Check if any same origin and destination done!\n",
      "Check corresponding time slot done!\n",
      "Check start date done!\n",
      "Check date seq done!\n",
      "Check exceed period done!\n",
      "Check duplication per airport req done!\n",
      "Check dep and arv status done!\n",
      "req 0 checked. No issue!\n",
      "req 1 checked. No issue!\n",
      "req 2 checked. No issue!\n",
      "Update dem Test passed!\n",
      "All check_outbound tests passed!\n",
      "All tests passed for action_mapping!\n",
      "Departure Airport ID: 0\n",
      "Arrival Airport ID: 1\n",
      "get agent test passed\n",
      "next_observation tests passed!\n",
      "1:=======================================\n",
      "Check if any same origin and destination done!\n",
      "Check corresponding time slot done!\n",
      "Check start date done!\n",
      "Check date seq done!\n",
      "Check exceed period done!\n",
      "Check duplication per airport req done!\n",
      "Check dep and arv status done!\n",
      "req 0 checked. No issue!\n",
      "req 1 checked. No issue!\n",
      "req 2 checked. No issue!\n",
      "Update dem Test passed!\n",
      "All check_outbound tests passed!\n",
      "All tests passed for action_mapping!\n",
      "Departure Airport ID: 2\n",
      "Arrival Airport ID: 0\n",
      "get agent test passed\n",
      "next_observation tests passed!\n",
      "2:=======================================\n"
     ]
    },
    {
     "ename": "KeyboardInterrupt",
     "evalue": "",
     "output_type": "error",
     "traceback": [
      "\u001b[1;31m---------------------------------------------------------------------------\u001b[0m",
      "\u001b[1;31mKeyboardInterrupt\u001b[0m                         Traceback (most recent call last)",
      "\u001b[1;32md:\\SMU\\Y4S1\\FYP\\FYP MAIN\\agent-aeronauts-MARL\\Multi-Airport_SchedEnv_SMU.ipynb Cell 50\u001b[0m line \u001b[0;36m3\n\u001b[0;32m      <a href='vscode-notebook-cell:/d%3A/SMU/Y4S1/FYP/FYP%20MAIN/agent-aeronauts-MARL/Multi-Airport_SchedEnv_SMU.ipynb#Y100sZmlsZQ%3D%3D?line=0'>1</a>\u001b[0m \u001b[39mfor\u001b[39;00m i \u001b[39min\u001b[39;00m \u001b[39mrange\u001b[39m(\u001b[39m100\u001b[39m):\n\u001b[0;32m      <a href='vscode-notebook-cell:/d%3A/SMU/Y4S1/FYP/FYP%20MAIN/agent-aeronauts-MARL/Multi-Airport_SchedEnv_SMU.ipynb#Y100sZmlsZQ%3D%3D?line=1'>2</a>\u001b[0m     num_airports \u001b[39m=\u001b[39m \u001b[39m3\u001b[39m\n\u001b[1;32m----> <a href='vscode-notebook-cell:/d%3A/SMU/Y4S1/FYP/FYP%20MAIN/agent-aeronauts-MARL/Multi-Airport_SchedEnv_SMU.ipynb#Y100sZmlsZQ%3D%3D?line=2'>3</a>\u001b[0m     requests_full, airport_req_dict, _belong_airport_dict, pot_dem_dict, cap_dem_dict \u001b[39m=\u001b[39m generate_scenario(number_of_requests \u001b[39m=\u001b[39;49m \u001b[39m15000\u001b[39;49m, num_airports \u001b[39m=\u001b[39;49m \u001b[39m3\u001b[39;49m, cap_dict \u001b[39m=\u001b[39;49m cap_dict)\n\u001b[0;32m      <a href='vscode-notebook-cell:/d%3A/SMU/Y4S1/FYP/FYP%20MAIN/agent-aeronauts-MARL/Multi-Airport_SchedEnv_SMU.ipynb#Y100sZmlsZQ%3D%3D?line=3'>4</a>\u001b[0m     check_request(requests_full, airport_req_dict, _belong_airport_dict, num_airports, pot_dem_dict)\n\u001b[0;32m      <a href='vscode-notebook-cell:/d%3A/SMU/Y4S1/FYP/FYP%20MAIN/agent-aeronauts-MARL/Multi-Airport_SchedEnv_SMU.ipynb#Y100sZmlsZQ%3D%3D?line=4'>5</a>\u001b[0m     \u001b[39mprint\u001b[39m(\u001b[39m'\u001b[39m\u001b[39m{}\u001b[39;00m\u001b[39m:=======================================\u001b[39m\u001b[39m'\u001b[39m\u001b[39m.\u001b[39mformat(i))\n",
      "\u001b[1;32md:\\SMU\\Y4S1\\FYP\\FYP MAIN\\agent-aeronauts-MARL\\Multi-Airport_SchedEnv_SMU.ipynb Cell 50\u001b[0m line \u001b[0;36m1\n\u001b[0;32m     <a href='vscode-notebook-cell:/d%3A/SMU/Y4S1/FYP/FYP%20MAIN/agent-aeronauts-MARL/Multi-Airport_SchedEnv_SMU.ipynb#Y100sZmlsZQ%3D%3D?line=95'>96</a>\u001b[0m     requests_full[:, i] \u001b[39m=\u001b[39m column_data\n\u001b[0;32m     <a href='vscode-notebook-cell:/d%3A/SMU/Y4S1/FYP/FYP%20MAIN/agent-aeronauts-MARL/Multi-Airport_SchedEnv_SMU.ipynb#Y100sZmlsZQ%3D%3D?line=97'>98</a>\u001b[0m \u001b[39m# airport_req_dict: A dictionary where each key corresponds to a specific airport's requirements. \u001b[39;00m\n\u001b[0;32m     <a href='vscode-notebook-cell:/d%3A/SMU/Y4S1/FYP/FYP%20MAIN/agent-aeronauts-MARL/Multi-Airport_SchedEnv_SMU.ipynb#Y100sZmlsZQ%3D%3D?line=98'>99</a>\u001b[0m \u001b[39m# The key format is 'req_i', where i is the index of the airport. \u001b[39;00m\n\u001b[0;32m    <a href='vscode-notebook-cell:/d%3A/SMU/Y4S1/FYP/FYP%20MAIN/agent-aeronauts-MARL/Multi-Airport_SchedEnv_SMU.ipynb#Y100sZmlsZQ%3D%3D?line=99'>100</a>\u001b[0m \u001b[39m# The value for each key is a numpy array, with each row representing a request and the columns containing different attributes of that request.\u001b[39;00m\n\u001b[1;32m--> <a href='vscode-notebook-cell:/d%3A/SMU/Y4S1/FYP/FYP%20MAIN/agent-aeronauts-MARL/Multi-Airport_SchedEnv_SMU.ipynb#Y100sZmlsZQ%3D%3D?line=100'>101</a>\u001b[0m airport_req_dict, _belong_airport_dict \u001b[39m=\u001b[39m get_airport_req_dict(requests_full, num_airports)\n\u001b[0;32m    <a href='vscode-notebook-cell:/d%3A/SMU/Y4S1/FYP/FYP%20MAIN/agent-aeronauts-MARL/Multi-Airport_SchedEnv_SMU.ipynb#Y100sZmlsZQ%3D%3D?line=102'>103</a>\u001b[0m pot_dem_dict \u001b[39m=\u001b[39m get_initial_pot_dem_per_airport(airport_req_dict, num_airports)\n\u001b[0;32m    <a href='vscode-notebook-cell:/d%3A/SMU/Y4S1/FYP/FYP%20MAIN/agent-aeronauts-MARL/Multi-Airport_SchedEnv_SMU.ipynb#Y100sZmlsZQ%3D%3D?line=104'>105</a>\u001b[0m cap_dem_dict \u001b[39m=\u001b[39m get_cap_dem_dict(num_airports, cap_dict, pot_dem_dict)\n",
      "\u001b[1;32md:\\SMU\\Y4S1\\FYP\\FYP MAIN\\agent-aeronauts-MARL\\Multi-Airport_SchedEnv_SMU.ipynb Cell 50\u001b[0m line \u001b[0;36m2\n\u001b[0;32m     <a href='vscode-notebook-cell:/d%3A/SMU/Y4S1/FYP/FYP%20MAIN/agent-aeronauts-MARL/Multi-Airport_SchedEnv_SMU.ipynb#Y100sZmlsZQ%3D%3D?line=26'>27</a>\u001b[0m _arv_req \u001b[39m=\u001b[39m np\u001b[39m.\u001b[39mappend(requests_full[i], \u001b[39m0\u001b[39m)\n\u001b[0;32m     <a href='vscode-notebook-cell:/d%3A/SMU/Y4S1/FYP/FYP%20MAIN/agent-aeronauts-MARL/Multi-Airport_SchedEnv_SMU.ipynb#Y100sZmlsZQ%3D%3D?line=27'>28</a>\u001b[0m _arv_req \u001b[39m=\u001b[39m np\u001b[39m.\u001b[39mappend(_arv_req, \u001b[39m1\u001b[39m)\n\u001b[1;32m---> <a href='vscode-notebook-cell:/d%3A/SMU/Y4S1/FYP/FYP%20MAIN/agent-aeronauts-MARL/Multi-Airport_SchedEnv_SMU.ipynb#Y100sZmlsZQ%3D%3D?line=28'>29</a>\u001b[0m airport_req_dict[\u001b[39m'\u001b[39m\u001b[39mreq_\u001b[39m\u001b[39m{}\u001b[39;00m\u001b[39m'\u001b[39m\u001b[39m.\u001b[39mformat(k)] \u001b[39m=\u001b[39m np\u001b[39m.\u001b[39;49mvstack((airport_req_dict[\u001b[39m'\u001b[39;49m\u001b[39mreq_\u001b[39;49m\u001b[39m{}\u001b[39;49;00m\u001b[39m'\u001b[39;49m\u001b[39m.\u001b[39;49mformat(k)], _arv_req))\n\u001b[0;32m     <a href='vscode-notebook-cell:/d%3A/SMU/Y4S1/FYP/FYP%20MAIN/agent-aeronauts-MARL/Multi-Airport_SchedEnv_SMU.ipynb#Y100sZmlsZQ%3D%3D?line=29'>30</a>\u001b[0m _found_arv \u001b[39m=\u001b[39m \u001b[39m1\u001b[39m\n\u001b[0;32m     <a href='vscode-notebook-cell:/d%3A/SMU/Y4S1/FYP/FYP%20MAIN/agent-aeronauts-MARL/Multi-Airport_SchedEnv_SMU.ipynb#Y100sZmlsZQ%3D%3D?line=30'>31</a>\u001b[0m \u001b[39m#airport_req_dict['req_{}'.format(k)] = np.append(airport_req_dict['req_{}'.format(k)], 0)\u001b[39;00m\n\u001b[0;32m     <a href='vscode-notebook-cell:/d%3A/SMU/Y4S1/FYP/FYP%20MAIN/agent-aeronauts-MARL/Multi-Airport_SchedEnv_SMU.ipynb#Y100sZmlsZQ%3D%3D?line=31'>32</a>\u001b[0m \u001b[39m#airport_req_dict['req_{}'.format(k)] = np.append(airport_req_dict['req_{}'.format(k)], 1)\u001b[39;00m\n\u001b[0;32m     <a href='vscode-notebook-cell:/d%3A/SMU/Y4S1/FYP/FYP%20MAIN/agent-aeronauts-MARL/Multi-Airport_SchedEnv_SMU.ipynb#Y100sZmlsZQ%3D%3D?line=32'>33</a>\u001b[0m \u001b[39m#break\u001b[39;00m\n",
      "File \u001b[1;32m<__array_function__ internals>:180\u001b[0m, in \u001b[0;36mvstack\u001b[1;34m(*args, **kwargs)\u001b[0m\n",
      "File \u001b[1;32mc:\\Python310\\lib\\site-packages\\numpy\\core\\shape_base.py:282\u001b[0m, in \u001b[0;36mvstack\u001b[1;34m(tup)\u001b[0m\n\u001b[0;32m    280\u001b[0m \u001b[39mif\u001b[39;00m \u001b[39mnot\u001b[39;00m \u001b[39misinstance\u001b[39m(arrs, \u001b[39mlist\u001b[39m):\n\u001b[0;32m    281\u001b[0m     arrs \u001b[39m=\u001b[39m [arrs]\n\u001b[1;32m--> 282\u001b[0m \u001b[39mreturn\u001b[39;00m _nx\u001b[39m.\u001b[39;49mconcatenate(arrs, \u001b[39m0\u001b[39;49m)\n",
      "File \u001b[1;32m<__array_function__ internals>:180\u001b[0m, in \u001b[0;36mconcatenate\u001b[1;34m(*args, **kwargs)\u001b[0m\n",
      "\u001b[1;31mKeyboardInterrupt\u001b[0m: "
     ]
    }
   ],
   "source": [
    "for i in range(100):\n",
    "    num_airports = 3\n",
    "    requests_full, airport_req_dict, _belong_airport_dict, pot_dem_dict, cap_dem_dict = generate_scenario(number_of_requests = 15000, num_airports = 3, cap_dict = cap_dict)\n",
    "    check_request(requests_full, airport_req_dict, _belong_airport_dict, num_airports, pot_dem_dict)\n",
    "    print('{}:======================================='.format(i))"
   ]
  },
  {
   "cell_type": "code",
   "execution_count": null,
   "metadata": {},
   "outputs": [
    {
     "name": "stdout",
     "output_type": "stream",
     "text": [
      "[ 3 -2  1  6  8  6  6]\n"
     ]
    }
   ],
   "source": []
  },
  {
   "cell_type": "markdown",
   "metadata": {},
   "source": [
    "DON'T RUN CELL BELOW"
   ]
  },
  {
   "cell_type": "code",
   "execution_count": null,
   "metadata": {},
   "outputs": [],
   "source": [
    "# import matplotlib.pyplot as plt\n",
    "\n",
    "# def test_simulator():\n",
    "#     # 1. Initialization\n",
    "#     num_actions = 10\n",
    "#     num_requests = 15000\n",
    "#     num_airports = 3\n",
    "#     cap_per_airport = [10, 12, 14]  # Example capacities\n",
    "#     env = TwoAirportSchedEnv(num_actions, num_requests, num_airports, cap_per_airport)\n",
    "\n",
    "#     # Number of steps you want to test the simulator for\n",
    "#     num_steps = 100\n",
    "#     rewards = []\n",
    "\n",
    "#     for _ in range(num_steps):\n",
    "#         # 2. Reset the environment\n",
    "#         # obs = env.reset()\n",
    "#         # 3. Take steps\n",
    "#         action = env.take_action()\n",
    "#         next_obs, reward, done, info = env.step(action)\n",
    "#         check_request(env.requests_full, env.airport_req_dict, env._belong_airport_dict, num_airports, env.pot_dem_dict)\n",
    "#         rewards.append(reward)\n",
    "        \n",
    "#         if done:\n",
    "#             break\n",
    "\n",
    "#     # 4. Visualize Results\n",
    "#     plt.plot(rewards)\n",
    "#     plt.xlabel(\"Steps\")\n",
    "#     plt.ylabel(\"Reward\")\n",
    "#     plt.title(\"Reward over Time\")\n",
    "#     plt.show()\n",
    "\n",
    "# # Call the test function\n",
    "# test_simulator()"
   ]
  }
 ],
 "metadata": {
  "kernelspec": {
   "display_name": "Python 3",
   "language": "python",
   "name": "python3"
  },
  "language_info": {
   "codemirror_mode": {
    "name": "ipython",
    "version": 3
   },
   "file_extension": ".py",
   "mimetype": "text/x-python",
   "name": "python",
   "nbconvert_exporter": "python",
   "pygments_lexer": "ipython3",
   "version": "3.9.13"
  }
 },
 "nbformat": 4,
 "nbformat_minor": 4
}
