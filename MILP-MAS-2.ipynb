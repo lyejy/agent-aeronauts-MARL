{
  "cells": [
    {
      "cell_type": "code",
      "execution_count": null,
      "metadata": {
        "id": "PxAHYhQB4yQ8"
      },
      "outputs": [],
      "source": [
        "!pip install pulp\n",
        "!pip install matplotlib"
      ]
    },
    {
      "cell_type": "code",
      "execution_count": 54,
      "metadata": {
        "id": "G8oBYWiq3nwo"
      },
      "outputs": [],
      "source": [
        "import numpy as np\n",
        "import random\n",
        "from pulp import *"
      ]
    },
    {
      "cell_type": "code",
      "execution_count": 17,
      "metadata": {
        "id": "Uu7yQ0rF3Y80"
      },
      "outputs": [],
      "source": [
        "#Function for normal distribution truncation:\n",
        "from scipy.stats import truncnorm\n",
        "\n",
        "def get_truncated_normal(mean, sd, low, upp):\n",
        "    return truncnorm((low - mean) / sd, (upp - mean) / sd, loc=mean, scale=sd)"
      ]
    },
    {
      "cell_type": "code",
      "execution_count": 30,
      "metadata": {
        "id": "t_BI8VdJ3uaC"
      },
      "outputs": [],
      "source": [
        "#Function to get the one-hot-encoded vectors for departure and arrival airports:\n",
        "\n",
        "def one_hot_encode_airport(airport, num_airports):\n",
        "    encoding = np.zeros(num_airports)\n",
        "    encoding[airport] = 1\n",
        "    return encoding"
      ]
    },
    {
      "cell_type": "code",
      "execution_count": 29,
      "metadata": {
        "id": "m4CBMXDF34Kw"
      },
      "outputs": [],
      "source": [
        "#Generate full info for the arrival sides:\n",
        "\n",
        "def generate_info_arv(requests):\n",
        "    ts_arv = np.empty(shape=(len(requests),), dtype='object')\n",
        "    for i in range(len(requests)):\n",
        "        ts_arv[i] = requests[i][1] + requests[i][4]/5\n",
        "        if ts_arv[i] > 287:\n",
        "            ts_arv[i] = ts_arv[i] - 287\n",
        "    return ts_arv"
      ]
    },
    {
      "cell_type": "code",
      "execution_count": 47,
      "metadata": {
        "id": "mc6vGwzW2Rr1"
      },
      "outputs": [],
      "source": [
        "#Modify the distribution based on historical data later:\n",
        "def generate_scenario(number_of_requests, num_airports):\n",
        "\n",
        "    #number_of_requests = 15000\n",
        "    ts_72 = get_truncated_normal(mean=72, sd=12, low=0, upp=287).rvs(int(round(number_of_requests/2)))\n",
        "    ts_72 = np.round(ts_72)\n",
        "\n",
        "    ts_216 = get_truncated_normal(mean=216, sd=12, low=0, upp=287).rvs(int(round(number_of_requests/2)))\n",
        "    ts_216 = np.round(ts_216)\n",
        "\n",
        "    ts_dep = np.concatenate((ts_72, ts_216))\n",
        "    ts_dep = ts_dep.astype(int)\n",
        "\n",
        "    #Generate index for requests:\n",
        "\n",
        "    index = np.array(list(range(number_of_requests)))\n",
        "\n",
        "    #Generate origin (0 and 1 are two considered origin airports, 2 represent other airports, encoded in one-hot vector):\n",
        "\n",
        "    #num_airports = 3\n",
        "    origin_airport = np.empty(shape=(number_of_requests,), dtype='object')\n",
        "    destination_airport = np.empty(shape=(number_of_requests,), dtype='object')\n",
        "    for i in range(number_of_requests):\n",
        "        _org_airport = one_hot_encode_airport(random.randint(0,1), num_airports)\n",
        "        _org_airport_list = _org_airport.tolist()\n",
        "        origin_airport[i] = _org_airport_list\n",
        "        #Generate destination (the destination will be different with the origin):\n",
        "        _dest_airport = _org_airport.copy()\n",
        "        while np.array_equal(_dest_airport, _org_airport):\n",
        "            np.random.shuffle(_dest_airport)\n",
        "        _dest_airport_list = _dest_airport.tolist()\n",
        "        destination_airport[i] = _dest_airport_list\n",
        "\n",
        "    #Generate flying time (assume between airport 0 and 1 is 2 hour, 0 to 2 and 1 to 2 is arbitrary):\n",
        "\n",
        "    fly_time = np.empty(shape=(number_of_requests,), dtype='object')\n",
        "    for i in range (number_of_requests):\n",
        "        if origin_airport[i] == list([1.0, 0.0]) and destination_airport[i] == list([0.0, 1.0]):\n",
        "            fly_time[i] = 120\n",
        "        elif origin_airport[i] == list([0.0, 1.0]) and destination_airport[i] == list([1.0, 0.0]):\n",
        "            fly_time[i] = random.choice([60, 120, 180])\n",
        "\n",
        "    #Generate status cap:\n",
        "\n",
        "    status_cap_dep = np.full((number_of_requests,), 0)\n",
        "    status_cap_arv = np.full((number_of_requests,), 0)\n",
        "\n",
        "\n",
        "    requests = np.stack((index, ts_dep, origin_airport, destination_airport, fly_time, status_cap_dep), axis=1)\n",
        "\n",
        "    #Generate full info for the arv side:\n",
        "\n",
        "    ts_arv = generate_info_arv(requests)\n",
        "\n",
        "    #pseudo_belong_dep = np.full((number_of_requests,), 0)\n",
        "    #pseudo_belong_arv = np.full((number_of_requests,), 0)\n",
        "\n",
        "    # Define requests_full as dtype object\n",
        "    num_entries = len(index)  # Given that 'index' is defined using np.array(list(range(number_of_requests)))\n",
        "    # Create an empty array of the desired shape with dtype=object\n",
        "    requests_full = np.empty((num_entries, 8), dtype=object)\n",
        "    # Fill the array\n",
        "    data = [index, ts_dep, origin_airport, destination_airport, fly_time, status_cap_dep, ts_arv, status_cap_arv]\n",
        "    for i, column_data in enumerate(data):\n",
        "        requests_full[:, i] = column_data\n",
        "\n",
        "    return requests_full"
      ]
    },
    {
      "cell_type": "code",
      "execution_count": 46,
      "metadata": {
        "id": "FcC4QAlSCOTf"
      },
      "outputs": [],
      "source": [
        "def generate_scenario_MILP(requests_full): #0 - departure slot, 1 - arrival slot, 2 - departure airport, 3 - arrival airport\n",
        "\n",
        "  updated_requests = []\n",
        "\n",
        "  for req in requests_full:\n",
        "    updated_req = []\n",
        "    updated_req.append(req[1])\n",
        "    updated_req.append(req[6])\n",
        "    updated_req.append(req[2].index(1))\n",
        "    updated_req.append(req[3].index(1))\n",
        "    updated_requests.append(updated_req)\n",
        "\n",
        "  return updated_requests"
      ]
    },
    {
      "cell_type": "code",
      "execution_count": null,
      "metadata": {
        "id": "6hxWKxCY0fVK"
      },
      "outputs": [],
      "source": [
        "num_airports = 2\n",
        "number_of_requests = 1000\n",
        "requests = generate_scenario(number_of_requests, num_airports)\n",
        "flight_requests = generate_scenario_MILP(requests)\n",
        "time_slots = 288 # Time slots and their characteristics\n",
        "capacity_per_slot = 6\n",
        "max_movements = 6\n",
        "arrival_departure = [0,1]\n",
        "\n",
        "# Create a MILP problem\n",
        "problem = LpProblem(name=\"Flight_Scheduling\", sense=LpMinimize)\n",
        "\n",
        "# Creating binary decision variables for each flight request, airport, and arrival/departure slot\n",
        "x = {(req, flight_type, airport, slot): LpVariable(\n",
        "        name=f\"x_{req}_{airport}_{slot}_{arrival_departure}\", cat=\"Binary\")\n",
        "     for req in range(number_of_requests)\n",
        "     for flight_type in arrival_departure #0 - departure, 1 - arrival\n",
        "     for airport in range(num_airports)\n",
        "     for slot in range(time_slots)}\n",
        "\n",
        "# Objective function - minimises the total absolute difference between the requested and allocated time interval\n",
        "problem += lpSum(\n",
        "    abs(x[req, flight_type, airport, slot] * slot - flight_requests[req][flight_type])\n",
        "    * x[req, flight_type, airport, slot]\n",
        "    for req in range(number_of_requests)\n",
        "    for flight_type in arrival_departure\n",
        "    for airport in range(num_airports)\n",
        "    for slot in range(time_slots)\n",
        ")\n",
        "\n",
        "# Constraints -\n",
        "# ensure that only one slot is assigned to a flight and no flight can arrive earlier or depart earlier than the beginning of the day.\n",
        "for req in range(number_of_requests):\n",
        "  for flight_type in arrival_departure:\n",
        "      problem += lpSum(x[req, flight_type, airport, 0] for airport in range(num_airports)) == 1\n",
        "\n",
        "for req in range(number_of_requests):\n",
        "  for flight_type in arrival_departure:\n",
        "    for airport in range(num_airports):\n",
        "      for slot in range(1, time_slots):\n",
        "        problem += x[req, flight_type, airport, slot] <= x[req, flight_type, airport, slot - 1]\n",
        "\n",
        "# ensure that every flight has arrived or departed at the end of the scheduling day\n",
        "for req in range(number_of_requests):\n",
        "  for flight_type in arrival_departure:\n",
        "      problem += lpSum(x[req, flight_type, airport, -1] for airport in range(num_airports)) == 0\n",
        "\n",
        "# impose interval restriction between arrival and departure flight\n",
        "for req in range(number_of_requests):\n",
        "    for dep_airport in range(num_airports):\n",
        "      for arv_airport in range(dep_airport + 1, num_airports):\n",
        "        problem += lpSum(abs(sum(x[req, 0, dep_airport, slot] for slot in range(time_slots)) - sum(x[req, 1, arv_airport, slot] for slot in time_slots)) * x[req, arrival_departure[0], dep_airport, 0] * x[req, arrival_departure[1], arv_airport, 0]) == flight_requests[req][0] - flight_requests[req][1]\n",
        "\n",
        "# airport capacity constraints, which limit the number of arrivals and departures at airports\n",
        "for airport_slot in time_slots:\n",
        "  for airport in range(num_airports):\n",
        "    problem += lpSum(int(sum(x[req, flight_type, airport, slot] for slot in range(time_slots)) == airport_slot) for req in range(number_of_requests) for flight_type in arrival_departure) <= capacity_per_slot\n",
        "\n",
        "# Solve the MILP problem\n",
        "problem.solve()\n",
        "\n",
        "updated_slots = []\n",
        "max_change = float('-inf')\n",
        "number_unchanged = 0\n",
        "\n",
        "# Iterate through the decision variables and check if they are equal to 1\n",
        "for req in range(number_of_requests):\n",
        "  for flight_type in arrival_departure:\n",
        "    change = 0\n",
        "    for airport in range(num_airports):\n",
        "        if x[req, flight_type, airport, 0].varValue == 1:\n",
        "            airport_slot = sum(x[req, flight_type, airport, slot] for slot in range(time_slots))\n",
        "            change = abs(flight_requests[req][flight_type] - airport_slot)\n",
        "            if change > max_change:\n",
        "                max_change = change\n",
        "            if change:\n",
        "              break\n",
        "    if not change:\n",
        "      number_unchanged += 1\n",
        "    else:\n",
        "        updated_slots.append((req, flight_type, airport_slot, change))\n",
        "\n",
        "# Print the slot changes\n",
        "for entry in updated_slots:\n",
        "    print(f\"Flight Request {entry[0]}: Change from slot {flight_requests[entry[0]][entry[1]]} to {flight_requests[entry[2]]}\" + \"departure\" if not entry[1] else \"arrival\")\n",
        "\n",
        "print(\"Status:\", LpStatus[problem.status])\n",
        "print(f\"{number_unchanged} flight requests out of {number_of_requests} were not shifted.\")\n",
        "print(\"Maximum Shift:\", max_change)\n",
        "print(\"Objective Value:\", problem.objective.value())"
      ]
    }
  ],
  "metadata": {
    "colab": {
      "provenance": [],
      "toc_visible": true
    },
    "kernelspec": {
      "display_name": "Python 3",
      "name": "python3"
    }
  },
  "nbformat": 4,
  "nbformat_minor": 0
}
