{
  "cells": [
    {
      "cell_type": "code",
      "execution_count": null,
      "metadata": {
        "colab": {
          "base_uri": "https://localhost:8080/"
        },
        "id": "PxAHYhQB4yQ8",
        "outputId": "3f88ab5e-f96b-4cf9-d75b-6d313e8def55"
      },
      "outputs": [],
      "source": [
        "!pip install pulp\n",
        "!pip install matplotlib"
      ]
    },
    {
      "cell_type": "code",
      "execution_count": null,
      "metadata": {
        "id": "G8oBYWiq3nwo"
      },
      "outputs": [],
      "source": [
        "import numpy as np\n",
        "import random\n",
        "from pulp import *\n"
      ]
    },
    {
      "cell_type": "code",
      "execution_count": null,
      "metadata": {
        "id": "Uu7yQ0rF3Y80"
      },
      "outputs": [],
      "source": [
        "#Function for normal distribution truncation:\n",
        "from scipy.stats import truncnorm\n",
        "\n",
        "def get_truncated_normal(mean, sd, low, upp):\n",
        "    return truncnorm((low - mean) / sd, (upp - mean) / sd, loc=mean, scale=sd)"
      ]
    },
    {
      "cell_type": "code",
      "execution_count": null,
      "metadata": {
        "id": "t_BI8VdJ3uaC"
      },
      "outputs": [],
      "source": [
        "#Function to get the one-hot-encoded vectors for departure and arrival airports:\n",
        "\n",
        "def one_hot_encode_airport(airport, num_airports):\n",
        "    encoding = np.zeros(num_airports)\n",
        "    encoding[airport] = 1\n",
        "    return encoding"
      ]
    },
    {
      "cell_type": "code",
      "execution_count": null,
      "metadata": {
        "id": "m4CBMXDF34Kw"
      },
      "outputs": [],
      "source": [
        "#Generate full info for the arrival sides:\n",
        "\n",
        "def generate_info_arv(requests):\n",
        "    ts_arv = np.empty(shape=(len(requests),), dtype='object')\n",
        "    for i in range(len(requests)):\n",
        "        ts_arv[i] = requests[i][1] + requests[i][4]/5\n",
        "        if ts_arv[i] > 287:\n",
        "            ts_arv[i] = ts_arv[i] - 287\n",
        "    return ts_arv"
      ]
    },
    {
      "cell_type": "code",
      "execution_count": null,
      "metadata": {
        "id": "mc6vGwzW2Rr1"
      },
      "outputs": [],
      "source": [
        "#Modify the distribution based on historical data later:\n",
        "def generate_scenario(number_of_requests, num_airports):\n",
        "\n",
        "    #number_of_requests = 15000\n",
        "    ts_72 = get_truncated_normal(mean=72, sd=60, low=0, upp=287).rvs(int(round(number_of_requests/2)))\n",
        "    ts_72 = np.round(ts_72)\n",
        "\n",
        "    ts_216 = get_truncated_normal(mean=216, sd=60, low=0, upp=287).rvs(int(round(number_of_requests/2)))\n",
        "    ts_216 = np.round(ts_216)\n",
        "\n",
        "    ts_dep = np.concatenate((ts_72, ts_216))\n",
        "    ts_dep = ts_dep.astype(int)\n",
        "\n",
        "    # ts_3 = get_truncated_normal(mean=3, sd=2, low=0, upp=287).rvs(int(round(number_of_requests*0.1)))\n",
        "    # ts_3 = np.round(ts_3)\n",
        "\n",
        "    # ts_130 = get_truncated_normal(mean=130, sd=24, low=0, upp=287).rvs(int(round(number_of_requests*0.7)))\n",
        "    # ts_130 = np.round(ts_130)\n",
        "\n",
        "    # ts_275 = get_truncated_normal(mean=275, sd=12, low=0, upp=287).rvs(int(round(number_of_requests*0.2)))\n",
        "    # ts_275 = np.round(ts_275)\n",
        "\n",
        "    # ts_3 = get_truncated_normal(mean=3, sd=2, low=0, upp=287).rvs(int(round(number_of_requests*0.05)))\n",
        "    # ts_3 = np.round(ts_3)\n",
        "\n",
        "    # ts_130 = get_truncated_normal(mean=130, sd=24, low=0, upp=287).rvs(int(round(number_of_requests*0.75)))\n",
        "    # ts_130 = np.round(ts_130)\n",
        "\n",
        "    # ts_275 = get_truncated_normal(mean=275, sd=12, low=0, upp=287).rvs(int(round(number_of_requests*0.2)))\n",
        "    # ts_275 = np.round(ts_275)\n",
        "\n",
        "    # ts_dep = np.concatenate((ts_3, ts_130, ts_275))\n",
        "    # ts_dep = ts_dep.astype(int)\n",
        "\n",
        "    #Generate index for requests:\n",
        "\n",
        "    index = np.array(list(range(number_of_requests)))\n",
        "\n",
        "    #Generate origin (0 and 1 are two considered origin airports, 2 represent other airports, encoded in one-hot vector):\n",
        "\n",
        "    #num_airports = 3\n",
        "    origin_airport = np.empty(shape=(number_of_requests,), dtype='object')\n",
        "    destination_airport = np.empty(shape=(number_of_requests,), dtype='object')\n",
        "    for i in range(number_of_requests):\n",
        "        _org_airport = one_hot_encode_airport(random.randint(0,1), num_airports)\n",
        "        _org_airport_list = _org_airport.tolist()\n",
        "        origin_airport[i] = _org_airport_list\n",
        "        #Generate destination (the destination will be different with the origin):\n",
        "        _dest_airport = _org_airport.copy()\n",
        "        while np.array_equal(_dest_airport, _org_airport):\n",
        "            np.random.shuffle(_dest_airport)\n",
        "        _dest_airport_list = _dest_airport.tolist()\n",
        "        destination_airport[i] = _dest_airport_list\n",
        "\n",
        "    #Generate flying time (assume between airport 0 and 1 is 2 hour, 0 to 2 and 1 to 2 is arbitrary):\n",
        "\n",
        "    fly_time = np.empty(shape=(number_of_requests,), dtype='object')\n",
        "    for i in range (number_of_requests):\n",
        "        if origin_airport[i] == list([1.0, 0.0]) and destination_airport[i] == list([0.0, 1.0]):\n",
        "            fly_time[i] = 120\n",
        "        elif origin_airport[i] == list([0.0, 1.0]) and destination_airport[i] == list([1.0, 0.0]):\n",
        "            fly_time[i] = random.choice([60, 120, 180])\n",
        "\n",
        "    #Generate status cap:\n",
        "\n",
        "    status_cap_dep = np.full((number_of_requests,), 0)\n",
        "    status_cap_arv = np.full((number_of_requests,), 0)\n",
        "\n",
        "\n",
        "    requests = np.stack((index, ts_dep, origin_airport, destination_airport, fly_time, status_cap_dep), axis=1)\n",
        "\n",
        "    #Generate full info for the arv side:\n",
        "\n",
        "    ts_arv = generate_info_arv(requests)\n",
        "\n",
        "    #pseudo_belong_dep = np.full((number_of_requests,), 0)\n",
        "    #pseudo_belong_arv = np.full((number_of_requests,), 0)\n",
        "\n",
        "    # Define requests_full as dtype object\n",
        "    num_entries = len(index)  # Given that 'index' is defined using np.array(list(range(number_of_requests)))\n",
        "    # Create an empty array of the desired shape with dtype=object\n",
        "    requests_full = np.empty((num_entries, 8), dtype=object)\n",
        "    # Fill the array\n",
        "    data = [index, ts_dep, origin_airport, destination_airport, fly_time, status_cap_dep, ts_arv, status_cap_arv]\n",
        "    for i, column_data in enumerate(data):\n",
        "        requests_full[:, i] = column_data\n",
        "\n",
        "    return requests_full"
      ]
    },
    {
      "cell_type": "code",
      "execution_count": null,
      "metadata": {
        "id": "FcC4QAlSCOTf"
      },
      "outputs": [],
      "source": [
        "def generate_scenario_MILP(requests_full): #0 - departure slot, 1 - arrival slot, 2 - departure airport, 3 - arrival airport\n",
        "\n",
        "  updated_requests = []\n",
        "\n",
        "  for req in requests_full:\n",
        "    updated_req = []\n",
        "    updated_req.append(req[1])\n",
        "    updated_req.append(req[6])\n",
        "    updated_req.append(req[2].index(1))\n",
        "    updated_req.append(req[3].index(1))\n",
        "    updated_requests.append(updated_req)\n",
        "\n",
        "  return updated_requests"
      ]
    },
    {
      "cell_type": "code",
      "execution_count": null,
      "metadata": {
        "id": "hxJju8N1Us0L"
      },
      "outputs": [],
      "source": [
        "num_airports = 2\n",
        "number_of_requests = 1000\n",
        "requests = generate_scenario(number_of_requests, num_airports)\n",
        "flight_requests = generate_scenario_MILP(requests)\n",
        "time_slots = 288 # Time slots and their characteristics\n",
        "capacity_per_slot = 6\n",
        "max_movements = 6\n",
        "\n",
        "# Create a MILP problem\n",
        "problem = LpProblem(name=\"Flight_Scheduling\", sense=LpMinimize)"
      ]
    },
    {
      "cell_type": "code",
      "execution_count": null,
      "metadata": {
        "colab": {
          "base_uri": "https://localhost:8080/"
        },
        "id": "28ZcOV2wXWMm",
        "outputId": "bceb123a-5cc7-4cd4-ffba-e80bcbb73aac"
      },
      "outputs": [
        {
          "name": "stdout",
          "output_type": "stream",
          "text": [
            "[4, 40.0, 1, 0]\n",
            "[5, 29.0, 0, 1]\n",
            "[3, 39.0, 1, 0]\n",
            "[1, 25.0, 1, 0]\n",
            "[4, 28.0, 0, 1]\n",
            "[4, 28.0, 1, 0]\n",
            "[2, 26.0, 0, 1]\n",
            "[5, 29.0, 1, 0]\n",
            "[2, 26.0, 1, 0]\n",
            "[5, 41.0, 1, 0]\n"
          ]
        }
      ],
      "source": [
        "for i in range(10):\n",
        "  print(flight_requests[i])"
      ]
    },
    {
      "cell_type": "code",
      "execution_count": null,
      "metadata": {
        "id": "jEuOmVNYUxkm"
      },
      "outputs": [],
      "source": [
        "# Creating binary decision variables for the departure slots of all flight requests\n",
        "x = {(req, slot): LpVariable(\n",
        "        name=f\"x_{req}_{slot}\", cat=\"Binary\")\n",
        "     for req in range(number_of_requests)\n",
        "     for slot in range(time_slots)}"
      ]
    },
    {
      "cell_type": "code",
      "execution_count": null,
      "metadata": {
        "id": "8o101cn4Vcwa"
      },
      "outputs": [],
      "source": [
        "# Creating binary decision variables for the arrival slots of all flight requests\n",
        "y = {(req, slot): LpVariable(\n",
        "        name=f\"y_{req}_{slot}\", cat=\"Binary\")\n",
        "     for req in range(number_of_requests)\n",
        "     for slot in range(time_slots)}"
      ]
    },
    {
      "cell_type": "code",
      "execution_count": null,
      "metadata": {
        "id": "c3oRjYRPVoJF"
      },
      "outputs": [],
      "source": [
        "# Objective function - minimises the total absolute difference between the requested and allocated time interval\n",
        "problem += lpSum((x[req, slot] * abs(slot - flight_requests[req][0])) for req in range(number_of_requests) for slot in range(time_slots))"
      ]
    },
    {
      "cell_type": "code",
      "execution_count": null,
      "metadata": {
        "id": "Bj3vfC4DXvnm"
      },
      "outputs": [],
      "source": [
        "# Constraints -\n",
        "# ensure that only one slot is assigned to a flight\n",
        "for req in range(number_of_requests):\n",
        "  problem += lpSum(x[req, slot] for slot in range(time_slots)) == 1\n",
        "  problem += lpSum(y[req, slot] for slot in range(time_slots)) == 1"
      ]
    },
    {
      "cell_type": "code",
      "execution_count": null,
      "metadata": {
        "id": "rmNsNzb8Ym7Z"
      },
      "outputs": [],
      "source": [
        "# ensure slot interval between arrival and departure flight is equal to flying time\n",
        "for req in range(number_of_requests):\n",
        "  problem += lpSum((y[req, slot] * slot) for slot in range(time_slots)) - lpSum((x[req, slot] * slot) for slot in range(time_slots)) == flight_requests[req][1] - flight_requests[req][0]"
      ]
    },
    {
      "cell_type": "code",
      "execution_count": null,
      "metadata": {
        "id": "DbHFvmV8vgu4"
      },
      "outputs": [],
      "source": [
        "x_req_belong_airport_0 = []\n",
        "for req in range(number_of_requests):\n",
        "  if flight_requests[req][2] == 0:\n",
        "    x_req_belong_airport_0.append(1)\n",
        "  else:\n",
        "    x_req_belong_airport_0.append(0)\n",
        "\n",
        "y_req_belong_airport_0 = []\n",
        "for req in range(number_of_requests):\n",
        "  if flight_requests[req][3] == 0:\n",
        "    y_req_belong_airport_0.append(1)\n",
        "  else:\n",
        "    y_req_belong_airport_0.append(0)\n",
        "\n",
        "# airport capacity constraints, which limit the number of arrivals and departures at airports\n",
        "for slot in range(time_slots):\n",
        "    problem += lpSum((x[req,slot] * x_req_belong_airport_0[req] + y[req,slot] * y_req_belong_airport_0[req]) for req in range(number_of_requests)) <= capacity_per_slot\n",
        "\n",
        "x_req_belong_airport_1 = []\n",
        "for req in range(number_of_requests):\n",
        "  if flight_requests[req][2] == 1:\n",
        "    x_req_belong_airport_1.append(1)\n",
        "  else:\n",
        "    x_req_belong_airport_1.append(0)\n",
        "\n",
        "y_req_belong_airport_1 = []\n",
        "for req in range(number_of_requests):\n",
        "  if flight_requests[req][3] == 1:\n",
        "    y_req_belong_airport_1.append(1)\n",
        "  else:\n",
        "    y_req_belong_airport_1.append(0)\n",
        "\n",
        "# airport capacity constraints, which limit the number of arrivals and departures at airports\n",
        "for slot in range(time_slots):\n",
        "    problem += lpSum((x[req,slot] * x_req_belong_airport_1[req] + y[req,slot] * y_req_belong_airport_1[req]) for req in range(number_of_requests)) <= capacity_per_slot\n"
      ]
    },
    {
      "cell_type": "code",
      "execution_count": null,
      "metadata": {
        "id": "AVEynDoNwJo3"
      },
      "outputs": [],
      "source": [
        "import time\n",
        "\n",
        "start_time = time.time()\n",
        "\n",
        "# Solve the MILP problem\n",
        "problem.solve(PULP_CBC_CMD(msg=True))\n",
        "\n",
        "# Calculate elapsed time\n",
        "elapsed_time = time.time() - start_time\n",
        "print(f\"Time taken to solve: {elapsed_time} seconds\")\n",
        "\n",
        "updated_slots = []\n",
        "max_change = float('-inf')\n",
        "requests_unchanged = 0\n",
        "\n",
        "# Iterate through the decision variables and check if they are equal to 1\n",
        "for req in range(number_of_requests):\n",
        "  dep_slot = None\n",
        "  arv_slot = None\n",
        "  for slot in range(time_slots):\n",
        "    if not dep_slot and x[req, slot].varValue == 1:\n",
        "      dep_slot = slot\n",
        "    if not arv_slot and y[req, slot].varValue == 1:\n",
        "      arv_slot = slot\n",
        "    if dep_slot and arv_slot:\n",
        "      break\n",
        "  change = abs(flight_requests[req][0] - dep_slot)\n",
        "  if change > max_change:\n",
        "    max_change = change\n",
        "  if not change:\n",
        "    requests_unchanged += 1\n",
        "  updated_slots.append((req, dep_slot, arv_slot, change))\n",
        "\n",
        "# Print the slot changes\n",
        "for entry in updated_slots:\n",
        "    print(f\"Flight Request {entry[0]}: Departure slot changed from slot {flight_requests[entry[0]][0]} to slot {entry[1]}\")\n",
        "\n",
        "print(\"Status:\", LpStatus[problem.status])\n",
        "print(f\"{requests_unchanged} flight requests out of {number_of_requests} were not shifted.\")\n",
        "print(\"Maximum Shift:\", max_change)\n",
        "print(\"Objective Value:\", problem.objective.value())"
      ]
    },
    {
      "cell_type": "code",
      "execution_count": null,
      "metadata": {
        "id": "gdOJLA102z2r"
      },
      "outputs": [],
      "source": [
        "import matplotlib.pyplot as plt\n",
        "\n",
        "original_slots = [req[0] for req in flight_requests if req[2] == 0]\n",
        "original_slots.extend(req[1] for req in flight_requests if req[3] == 0)\n",
        "print(len(original_slots))\n",
        "# Count occurrences of each slot number\n",
        "slot_counts = np.bincount(original_slots)\n",
        "\n",
        "# Create x-axis values (timeslots)\n",
        "timeslots = np.arange(len(slot_counts))\n",
        "\n",
        "# Plotting the graph\n",
        "plt.figure(figsize=(8, 6))\n",
        "plt.bar(timeslots, slot_counts, align='center', alpha=0.7)\n",
        "plt.xticks(timeslots)\n",
        "plt.xlabel('Timeslot')\n",
        "plt.ylabel('Count')\n",
        "plt.title('Count of each timeslot at Airport 0 before')\n",
        "plt.grid(True)\n",
        "plt.show()"
      ]
    },
    {
      "cell_type": "code",
      "execution_count": null,
      "metadata": {
        "id": "CKoNgpyQ3bGW"
      },
      "outputs": [],
      "source": [
        "new_slots = [entry[1] for entry in updated_slots if flight_requests[entry[0]][2] == 0]\n",
        "new_slots.extend(entry[2] for entry in updated_slots if flight_requests[entry[0]][3] == 0)\n",
        "\n",
        "# Count occurrences of each slot number\n",
        "slot_counts = np.bincount(new_slots)\n",
        "\n",
        "# Create x-axis values (timeslots)\n",
        "timeslots = np.arange(len(slot_counts))\n",
        "\n",
        "# Plotting the graph\n",
        "plt.figure(figsize=(8, 6))\n",
        "plt.bar(timeslots, slot_counts, align='center', alpha=0.7)\n",
        "plt.xticks(timeslots)\n",
        "plt.xlabel('Timeslot')\n",
        "plt.ylabel('Count')\n",
        "plt.title('Count of each timeslot at Airport 0 after')\n",
        "plt.grid(True)\n",
        "plt.show()"
      ]
    },
    {
      "cell_type": "code",
      "execution_count": null,
      "metadata": {
        "id": "8kknGlpjfYP5"
      },
      "outputs": [],
      "source": [
        "import matplotlib.pyplot as plt\n",
        "\n",
        "original_slots = [req[0] for req in flight_requests if req[2] == 1]\n",
        "original_slots.extend(req[1] for req in flight_requests if req[3] == 1)\n",
        "print(len(original_slots))\n",
        "# Count occurrences of each slot number\n",
        "slot_counts = np.bincount(original_slots)\n",
        "\n",
        "# Create x-axis values (timeslots)\n",
        "timeslots = np.arange(len(slot_counts))\n",
        "\n",
        "# Plotting the graph\n",
        "plt.figure(figsize=(8, 6))\n",
        "plt.bar(timeslots, slot_counts, align='center', alpha=0.7)\n",
        "plt.xticks(timeslots)\n",
        "plt.xlabel('Timeslot')\n",
        "plt.ylabel('Count')\n",
        "plt.title('Count of each timeslot at Airport 1 before')\n",
        "plt.grid(True)\n",
        "plt.show()"
      ]
    },
    {
      "cell_type": "code",
      "execution_count": null,
      "metadata": {
        "id": "GT975aoOfZLy"
      },
      "outputs": [],
      "source": [
        "new_slots = [entry[1] for entry in updated_slots if flight_requests[entry[0]][2] == 1]\n",
        "new_slots.extend(entry[2] for entry in updated_slots if flight_requests[entry[0]][3] == 1)\n",
        "\n",
        "# Count occurrences of each slot number\n",
        "slot_counts = np.bincount(new_slots)\n",
        "\n",
        "# Create x-axis values (timeslots)\n",
        "timeslots = np.arange(len(slot_counts))\n",
        "\n",
        "# Plotting the graph\n",
        "plt.figure(figsize=(8, 6))\n",
        "plt.bar(timeslots, slot_counts, align='center', alpha=0.7)\n",
        "plt.xticks(timeslots)\n",
        "plt.xlabel('Timeslot')\n",
        "plt.ylabel('Count')\n",
        "plt.title('Count of each timeslot at Airport 1 after')\n",
        "plt.grid(True)\n",
        "plt.show()"
      ]
    }
  ],
  "metadata": {
    "colab": {
      "provenance": []
    },
    "kernelspec": {
      "display_name": "Python 3",
      "name": "python3"
    }
  },
  "nbformat": 4,
  "nbformat_minor": 0
}
